{
 "cells": [
  {
   "cell_type": "code",
   "execution_count": 1,
   "metadata": {},
   "outputs": [
    {
     "name": "stderr",
     "output_type": "stream",
     "text": [
      "[nltk_data] Downloading package stopwords to\n",
      "[nltk_data]     C:\\Users\\chadh\\AppData\\Roaming\\nltk_data...\n",
      "[nltk_data]   Package stopwords is already up-to-date!\n"
     ]
    },
    {
     "ename": "NameError",
     "evalue": "name 'stopwords' is not defined",
     "output_type": "error",
     "traceback": [
      "\u001b[1;31m---------------------------------------------------------------------------\u001b[0m",
      "\u001b[1;31mNameError\u001b[0m                                 Traceback (most recent call last)",
      "\u001b[1;32m<ipython-input-1-f7593f3cb147>\u001b[0m in \u001b[0;36m<module>\u001b[1;34m\u001b[0m\n\u001b[0;32m     41\u001b[0m \u001b[1;32mimport\u001b[0m \u001b[0mnltk\u001b[0m\u001b[1;33m\u001b[0m\u001b[1;33m\u001b[0m\u001b[0m\n\u001b[0;32m     42\u001b[0m \u001b[0mnltk\u001b[0m\u001b[1;33m.\u001b[0m\u001b[0mdownload\u001b[0m\u001b[1;33m(\u001b[0m\u001b[1;34m'stopwords'\u001b[0m\u001b[1;33m)\u001b[0m\u001b[1;33m\u001b[0m\u001b[1;33m\u001b[0m\u001b[0m\n\u001b[1;32m---> 43\u001b[1;33m \u001b[0mENGLISH_STOP_WORDS\u001b[0m \u001b[1;33m=\u001b[0m \u001b[0mstopwords\u001b[0m\u001b[1;33m.\u001b[0m\u001b[0mwords\u001b[0m\u001b[1;33m(\u001b[0m\u001b[1;34m'english'\u001b[0m\u001b[1;33m)\u001b[0m\u001b[1;33m\u001b[0m\u001b[1;33m\u001b[0m\u001b[0m\n\u001b[0m\u001b[0;32m     44\u001b[0m \u001b[1;32mfrom\u001b[0m \u001b[0mnltk\u001b[0m\u001b[1;33m.\u001b[0m\u001b[0mcorpus\u001b[0m \u001b[1;32mimport\u001b[0m \u001b[0mstopwords\u001b[0m\u001b[1;33m\u001b[0m\u001b[1;33m\u001b[0m\u001b[0m\n\u001b[0;32m     45\u001b[0m \u001b[1;32mfrom\u001b[0m \u001b[0mwordcloud\u001b[0m \u001b[1;32mimport\u001b[0m \u001b[0mWordCloud\u001b[0m\u001b[1;33m\u001b[0m\u001b[1;33m\u001b[0m\u001b[0m\n",
      "\u001b[1;31mNameError\u001b[0m: name 'stopwords' is not defined"
     ]
    }
   ],
   "source": [
    "import tweepy\n",
    "import pandas as pd\n",
    "import numpy as np\n",
    "import time\n",
    "import matplotlib.pyplot as plt\n",
    "\n",
    "# To split the data as necessary for modelling\n",
    "from sklearn.model_selection import train_test_split\n",
    "\n",
    "# To build a simple model\n",
    "from sklearn.linear_model import LogisticRegression\n",
    "from sklearn.neighbors import KNeighborsClassifier\n",
    "from sklearn.tree import DecisionTreeClassifier\n",
    "\n",
    "# To get rid of logistic regression default solver warnings that appear if sklearn hasn't been updated\n",
    "import warnings\n",
    "warnings.filterwarnings('ignore')\n",
    "\n",
    "# To \"pickle\" things, like accuracies or even an entire fitted model\n",
    "import joblib\n",
    "\n",
    "# To cross-validate\n",
    "from sklearn.model_selection import cross_val_score\n",
    "\n",
    "# To try scaling the data in various ways\n",
    "from sklearn.preprocessing import StandardScaler\n",
    "from sklearn.preprocessing import MinMaxScaler\n",
    "from sklearn.preprocessing import RobustScaler\n",
    "\n",
    "# To try dimensionality reduction\n",
    "from sklearn.decomposition import PCA\n",
    "\n",
    "# To do a cross-validated grid search\n",
    "from sklearn.model_selection import GridSearchCV\n",
    "\n",
    "from bs4 import BeautifulSoup\n",
    "import re\n",
    "import preprocessor as p\n",
    "p.set_options(p.OPT.URL, p.OPT.EMOJI, p.OPT.MENTION, p.OPT.SMILEY, p.OPT.NUMBER)\n",
    "from sklearn.feature_extraction.text import TfidfVectorizer, CountVectorizer\n",
    "import nltk\n",
    "nltk.download('stopwords')\n",
    "ENGLISH_STOP_WORDS = stopwords.words('english')\n",
    "from nltk.corpus import stopwords\n",
    "from wordcloud import WordCloud"
   ]
  },
  {
   "cell_type": "code",
   "execution_count": 2,
   "metadata": {},
   "outputs": [],
   "source": [
    "# Reading in the data from the CSV file we created\n",
    "df1=pd.read_csv('TwitterDataScrape.csv',index_col=0)"
   ]
  },
  {
   "cell_type": "code",
   "execution_count": 3,
   "metadata": {
    "scrolled": false
   },
   "outputs": [
    {
     "data": {
      "text/html": [
       "<div>\n",
       "<style scoped>\n",
       "    .dataframe tbody tr th:only-of-type {\n",
       "        vertical-align: middle;\n",
       "    }\n",
       "\n",
       "    .dataframe tbody tr th {\n",
       "        vertical-align: top;\n",
       "    }\n",
       "\n",
       "    .dataframe thead th {\n",
       "        text-align: right;\n",
       "    }\n",
       "</style>\n",
       "<table border=\"1\" class=\"dataframe\">\n",
       "  <thead>\n",
       "    <tr style=\"text-align: right;\">\n",
       "      <th></th>\n",
       "      <th>Timestamp of Tweet</th>\n",
       "      <th>Tweet Text</th>\n",
       "      <th>Twitter Handle</th>\n",
       "      <th>Is Republican</th>\n",
       "    </tr>\n",
       "  </thead>\n",
       "  <tbody>\n",
       "    <tr>\n",
       "      <th>0</th>\n",
       "      <td>2020-09-12 21:56:57</td>\n",
       "      <td>RT @rpof_gamble: Rain🌧 or Shine🌞, Raquel &amp;amp;...</td>\n",
       "      <td>GOP</td>\n",
       "      <td>1</td>\n",
       "    </tr>\n",
       "    <tr>\n",
       "      <th>1</th>\n",
       "      <td>2020-09-12 21:55:09</td>\n",
       "      <td>RT @mfreckletonGOP: The road to November conti...</td>\n",
       "      <td>GOP</td>\n",
       "      <td>1</td>\n",
       "    </tr>\n",
       "    <tr>\n",
       "      <th>2</th>\n",
       "      <td>2020-09-12 21:54:40</td>\n",
       "      <td>RT @oliviaintheusa: Trump Victory Fellow &amp;amp;...</td>\n",
       "      <td>GOP</td>\n",
       "      <td>1</td>\n",
       "    </tr>\n",
       "    <tr>\n",
       "      <th>3</th>\n",
       "      <td>2020-09-12 21:53:56</td>\n",
       "      <td>RT @EliseStefanik: HUGE enthusiasm for @realDo...</td>\n",
       "      <td>GOP</td>\n",
       "      <td>1</td>\n",
       "    </tr>\n",
       "    <tr>\n",
       "      <th>4</th>\n",
       "      <td>2020-09-12 21:52:12</td>\n",
       "      <td>RT @sukyeesmith: Incredible #VeteransForTrump ...</td>\n",
       "      <td>GOP</td>\n",
       "      <td>1</td>\n",
       "    </tr>\n",
       "    <tr>\n",
       "      <th>...</th>\n",
       "      <td>...</td>\n",
       "      <td>...</td>\n",
       "      <td>...</td>\n",
       "      <td>...</td>\n",
       "    </tr>\n",
       "    <tr>\n",
       "      <th>10995</th>\n",
       "      <td>2020-08-07 13:04:00</td>\n",
       "      <td>While this president only cares about the rich...</td>\n",
       "      <td>TheDemocrats</td>\n",
       "      <td>0</td>\n",
       "    </tr>\n",
       "    <tr>\n",
       "      <th>10996</th>\n",
       "      <td>2020-08-07 02:57:00</td>\n",
       "      <td>RT @DemConvention: If we want to truly honor t...</td>\n",
       "      <td>TheDemocrats</td>\n",
       "      <td>0</td>\n",
       "    </tr>\n",
       "    <tr>\n",
       "      <th>10997</th>\n",
       "      <td>2020-08-07 01:57:00</td>\n",
       "      <td>Trump failed to take decisive action against t...</td>\n",
       "      <td>TheDemocrats</td>\n",
       "      <td>0</td>\n",
       "    </tr>\n",
       "    <tr>\n",
       "      <th>10998</th>\n",
       "      <td>2020-08-07 00:57:00</td>\n",
       "      <td>RT @JoeBiden: The fight for civil rights is wh...</td>\n",
       "      <td>TheDemocrats</td>\n",
       "      <td>0</td>\n",
       "    </tr>\n",
       "    <tr>\n",
       "      <th>10999</th>\n",
       "      <td>2020-08-06 23:57:00</td>\n",
       "      <td>The Senate GOP are dragging their feet on crit...</td>\n",
       "      <td>TheDemocrats</td>\n",
       "      <td>0</td>\n",
       "    </tr>\n",
       "  </tbody>\n",
       "</table>\n",
       "<p>11000 rows × 4 columns</p>\n",
       "</div>"
      ],
      "text/plain": [
       "        Timestamp of Tweet                                         Tweet Text  \\\n",
       "0      2020-09-12 21:56:57  RT @rpof_gamble: Rain🌧 or Shine🌞, Raquel &amp;...   \n",
       "1      2020-09-12 21:55:09  RT @mfreckletonGOP: The road to November conti...   \n",
       "2      2020-09-12 21:54:40  RT @oliviaintheusa: Trump Victory Fellow &amp;...   \n",
       "3      2020-09-12 21:53:56  RT @EliseStefanik: HUGE enthusiasm for @realDo...   \n",
       "4      2020-09-12 21:52:12  RT @sukyeesmith: Incredible #VeteransForTrump ...   \n",
       "...                    ...                                                ...   \n",
       "10995  2020-08-07 13:04:00  While this president only cares about the rich...   \n",
       "10996  2020-08-07 02:57:00  RT @DemConvention: If we want to truly honor t...   \n",
       "10997  2020-08-07 01:57:00  Trump failed to take decisive action against t...   \n",
       "10998  2020-08-07 00:57:00  RT @JoeBiden: The fight for civil rights is wh...   \n",
       "10999  2020-08-06 23:57:00  The Senate GOP are dragging their feet on crit...   \n",
       "\n",
       "      Twitter Handle  Is Republican  \n",
       "0                GOP              1  \n",
       "1                GOP              1  \n",
       "2                GOP              1  \n",
       "3                GOP              1  \n",
       "4                GOP              1  \n",
       "...              ...            ...  \n",
       "10995   TheDemocrats              0  \n",
       "10996   TheDemocrats              0  \n",
       "10997   TheDemocrats              0  \n",
       "10998   TheDemocrats              0  \n",
       "10999   TheDemocrats              0  \n",
       "\n",
       "[11000 rows x 4 columns]"
      ]
     },
     "execution_count": 3,
     "metadata": {},
     "output_type": "execute_result"
    }
   ],
   "source": [
    "# Check\n",
    "df1"
   ]
  },
  {
   "cell_type": "code",
   "execution_count": 8,
   "metadata": {},
   "outputs": [],
   "source": [
    "# Learning from our previous mistake of trying to find information from the Twitter handles\n",
    "df1.drop('Twitter Handle',axis = 1, inplace = True)"
   ]
  },
  {
   "cell_type": "code",
   "execution_count": 9,
   "metadata": {
    "scrolled": false
   },
   "outputs": [
    {
     "data": {
      "text/html": [
       "<div>\n",
       "<style scoped>\n",
       "    .dataframe tbody tr th:only-of-type {\n",
       "        vertical-align: middle;\n",
       "    }\n",
       "\n",
       "    .dataframe tbody tr th {\n",
       "        vertical-align: top;\n",
       "    }\n",
       "\n",
       "    .dataframe thead th {\n",
       "        text-align: right;\n",
       "    }\n",
       "</style>\n",
       "<table border=\"1\" class=\"dataframe\">\n",
       "  <thead>\n",
       "    <tr style=\"text-align: right;\">\n",
       "      <th></th>\n",
       "      <th>Timestamp of Tweet</th>\n",
       "      <th>Tweet Text</th>\n",
       "      <th>Is Republican</th>\n",
       "    </tr>\n",
       "  </thead>\n",
       "  <tbody>\n",
       "    <tr>\n",
       "      <th>0</th>\n",
       "      <td>2020-09-12 21:56:57</td>\n",
       "      <td>RT @rpof_gamble: Rain🌧 or Shine🌞, Raquel &amp;amp;...</td>\n",
       "      <td>1</td>\n",
       "    </tr>\n",
       "    <tr>\n",
       "      <th>1</th>\n",
       "      <td>2020-09-12 21:55:09</td>\n",
       "      <td>RT @mfreckletonGOP: The road to November conti...</td>\n",
       "      <td>1</td>\n",
       "    </tr>\n",
       "    <tr>\n",
       "      <th>2</th>\n",
       "      <td>2020-09-12 21:54:40</td>\n",
       "      <td>RT @oliviaintheusa: Trump Victory Fellow &amp;amp;...</td>\n",
       "      <td>1</td>\n",
       "    </tr>\n",
       "    <tr>\n",
       "      <th>3</th>\n",
       "      <td>2020-09-12 21:53:56</td>\n",
       "      <td>RT @EliseStefanik: HUGE enthusiasm for @realDo...</td>\n",
       "      <td>1</td>\n",
       "    </tr>\n",
       "    <tr>\n",
       "      <th>4</th>\n",
       "      <td>2020-09-12 21:52:12</td>\n",
       "      <td>RT @sukyeesmith: Incredible #VeteransForTrump ...</td>\n",
       "      <td>1</td>\n",
       "    </tr>\n",
       "    <tr>\n",
       "      <th>...</th>\n",
       "      <td>...</td>\n",
       "      <td>...</td>\n",
       "      <td>...</td>\n",
       "    </tr>\n",
       "    <tr>\n",
       "      <th>10995</th>\n",
       "      <td>2020-08-07 13:04:00</td>\n",
       "      <td>While this president only cares about the rich...</td>\n",
       "      <td>0</td>\n",
       "    </tr>\n",
       "    <tr>\n",
       "      <th>10996</th>\n",
       "      <td>2020-08-07 02:57:00</td>\n",
       "      <td>RT @DemConvention: If we want to truly honor t...</td>\n",
       "      <td>0</td>\n",
       "    </tr>\n",
       "    <tr>\n",
       "      <th>10997</th>\n",
       "      <td>2020-08-07 01:57:00</td>\n",
       "      <td>Trump failed to take decisive action against t...</td>\n",
       "      <td>0</td>\n",
       "    </tr>\n",
       "    <tr>\n",
       "      <th>10998</th>\n",
       "      <td>2020-08-07 00:57:00</td>\n",
       "      <td>RT @JoeBiden: The fight for civil rights is wh...</td>\n",
       "      <td>0</td>\n",
       "    </tr>\n",
       "    <tr>\n",
       "      <th>10999</th>\n",
       "      <td>2020-08-06 23:57:00</td>\n",
       "      <td>The Senate GOP are dragging their feet on crit...</td>\n",
       "      <td>0</td>\n",
       "    </tr>\n",
       "  </tbody>\n",
       "</table>\n",
       "<p>11000 rows × 3 columns</p>\n",
       "</div>"
      ],
      "text/plain": [
       "        Timestamp of Tweet                                         Tweet Text  \\\n",
       "0      2020-09-12 21:56:57  RT @rpof_gamble: Rain🌧 or Shine🌞, Raquel &amp;...   \n",
       "1      2020-09-12 21:55:09  RT @mfreckletonGOP: The road to November conti...   \n",
       "2      2020-09-12 21:54:40  RT @oliviaintheusa: Trump Victory Fellow &amp;...   \n",
       "3      2020-09-12 21:53:56  RT @EliseStefanik: HUGE enthusiasm for @realDo...   \n",
       "4      2020-09-12 21:52:12  RT @sukyeesmith: Incredible #VeteransForTrump ...   \n",
       "...                    ...                                                ...   \n",
       "10995  2020-08-07 13:04:00  While this president only cares about the rich...   \n",
       "10996  2020-08-07 02:57:00  RT @DemConvention: If we want to truly honor t...   \n",
       "10997  2020-08-07 01:57:00  Trump failed to take decisive action against t...   \n",
       "10998  2020-08-07 00:57:00  RT @JoeBiden: The fight for civil rights is wh...   \n",
       "10999  2020-08-06 23:57:00  The Senate GOP are dragging their feet on crit...   \n",
       "\n",
       "       Is Republican  \n",
       "0                  1  \n",
       "1                  1  \n",
       "2                  1  \n",
       "3                  1  \n",
       "4                  1  \n",
       "...              ...  \n",
       "10995              0  \n",
       "10996              0  \n",
       "10997              0  \n",
       "10998              0  \n",
       "10999              0  \n",
       "\n",
       "[11000 rows x 3 columns]"
      ]
     },
     "execution_count": 9,
     "metadata": {},
     "output_type": "execute_result"
    }
   ],
   "source": [
    "# Checking to see if the table dropped\n",
    "df1"
   ]
  },
  {
   "cell_type": "markdown",
   "metadata": {},
   "source": [
    "In retrospect, it would've been smarter to save the csv file AFTER the cleaning process however let's use this as an opportunity to create a singular for loop to quickly clean the data!"
   ]
  },
  {
   "cell_type": "code",
   "execution_count": 10,
   "metadata": {},
   "outputs": [],
   "source": [
    "# For loop for cleaning\n",
    "prelist1 = []\n",
    "prelist2 = []\n",
    "prelist3 = []\n",
    "for text in df1['Tweet Text']:\n",
    "    souper2 = BeautifulSoup(text, \"lxml\")\n",
    "    prelist1.append(souper2.get_text())\n",
    "        \n",
    "for text in prelist1:\n",
    "    prelist2.append(p.clean(text))\n",
    "    \n",
    "for text in prelist2:\n",
    "    prelist3.append(re.sub(r\"^RT.*:\",\"\",text))\n",
    "\n",
    "df1['Cleaned Tweet Text']= prelist3"
   ]
  },
  {
   "cell_type": "code",
   "execution_count": 11,
   "metadata": {},
   "outputs": [
    {
     "data": {
      "text/html": [
       "<div>\n",
       "<style scoped>\n",
       "    .dataframe tbody tr th:only-of-type {\n",
       "        vertical-align: middle;\n",
       "    }\n",
       "\n",
       "    .dataframe tbody tr th {\n",
       "        vertical-align: top;\n",
       "    }\n",
       "\n",
       "    .dataframe thead th {\n",
       "        text-align: right;\n",
       "    }\n",
       "</style>\n",
       "<table border=\"1\" class=\"dataframe\">\n",
       "  <thead>\n",
       "    <tr style=\"text-align: right;\">\n",
       "      <th></th>\n",
       "      <th>Timestamp of Tweet</th>\n",
       "      <th>Tweet Text</th>\n",
       "      <th>Is Republican</th>\n",
       "      <th>Cleaned Tweet Text</th>\n",
       "    </tr>\n",
       "  </thead>\n",
       "  <tbody>\n",
       "    <tr>\n",
       "      <th>0</th>\n",
       "      <td>2020-09-12 21:56:57</td>\n",
       "      <td>RT @rpof_gamble: Rain🌧 or Shine🌞, Raquel &amp;amp;...</td>\n",
       "      <td>1</td>\n",
       "      <td>Rain or Shine, Raquel &amp; I are hitting doors f...</td>\n",
       "    </tr>\n",
       "    <tr>\n",
       "      <th>1</th>\n",
       "      <td>2020-09-12 21:55:09</td>\n",
       "      <td>RT @mfreckletonGOP: The road to November conti...</td>\n",
       "      <td>1</td>\n",
       "      <td>The road to November continues! Team and #TVM...</td>\n",
       "    </tr>\n",
       "    <tr>\n",
       "      <th>2</th>\n",
       "      <td>2020-09-12 21:54:40</td>\n",
       "      <td>RT @oliviaintheusa: Trump Victory Fellow &amp;amp;...</td>\n",
       "      <td>1</td>\n",
       "      <td>Trump Victory Fellow &amp; Campus Team Leader Car...</td>\n",
       "    </tr>\n",
       "    <tr>\n",
       "      <th>3</th>\n",
       "      <td>2020-09-12 21:53:56</td>\n",
       "      <td>RT @EliseStefanik: HUGE enthusiasm for @realDo...</td>\n",
       "      <td>1</td>\n",
       "      <td>HUGE enthusiasm for at our Rally in Cambridge...</td>\n",
       "    </tr>\n",
       "    <tr>\n",
       "      <th>4</th>\n",
       "      <td>2020-09-12 21:52:12</td>\n",
       "      <td>RT @sukyeesmith: Incredible #VeteransForTrump ...</td>\n",
       "      <td>1</td>\n",
       "      <td>Incredible #VeteransForTrump and #Sportsmenfo...</td>\n",
       "    </tr>\n",
       "    <tr>\n",
       "      <th>...</th>\n",
       "      <td>...</td>\n",
       "      <td>...</td>\n",
       "      <td>...</td>\n",
       "      <td>...</td>\n",
       "    </tr>\n",
       "    <tr>\n",
       "      <th>10995</th>\n",
       "      <td>2020-08-07 13:04:00</td>\n",
       "      <td>While this president only cares about the rich...</td>\n",
       "      <td>0</td>\n",
       "      <td>While this president only cares about the rich...</td>\n",
       "    </tr>\n",
       "    <tr>\n",
       "      <th>10996</th>\n",
       "      <td>2020-08-07 02:57:00</td>\n",
       "      <td>RT @DemConvention: If we want to truly honor t...</td>\n",
       "      <td>0</td>\n",
       "      <td>If we want to truly honor the legacy of John ...</td>\n",
       "    </tr>\n",
       "    <tr>\n",
       "      <th>10997</th>\n",
       "      <td>2020-08-07 01:57:00</td>\n",
       "      <td>Trump failed to take decisive action against t...</td>\n",
       "      <td>0</td>\n",
       "      <td>Trump failed to take decisive action against t...</td>\n",
       "    </tr>\n",
       "    <tr>\n",
       "      <th>10998</th>\n",
       "      <td>2020-08-07 00:57:00</td>\n",
       "      <td>RT @JoeBiden: The fight for civil rights is wh...</td>\n",
       "      <td>0</td>\n",
       "      <td>The fight for civil rights is what drove me t...</td>\n",
       "    </tr>\n",
       "    <tr>\n",
       "      <th>10999</th>\n",
       "      <td>2020-08-06 23:57:00</td>\n",
       "      <td>The Senate GOP are dragging their feet on crit...</td>\n",
       "      <td>0</td>\n",
       "      <td>The Senate GOP are dragging their feet on crit...</td>\n",
       "    </tr>\n",
       "  </tbody>\n",
       "</table>\n",
       "<p>11000 rows × 4 columns</p>\n",
       "</div>"
      ],
      "text/plain": [
       "        Timestamp of Tweet                                         Tweet Text  \\\n",
       "0      2020-09-12 21:56:57  RT @rpof_gamble: Rain🌧 or Shine🌞, Raquel &amp;...   \n",
       "1      2020-09-12 21:55:09  RT @mfreckletonGOP: The road to November conti...   \n",
       "2      2020-09-12 21:54:40  RT @oliviaintheusa: Trump Victory Fellow &amp;...   \n",
       "3      2020-09-12 21:53:56  RT @EliseStefanik: HUGE enthusiasm for @realDo...   \n",
       "4      2020-09-12 21:52:12  RT @sukyeesmith: Incredible #VeteransForTrump ...   \n",
       "...                    ...                                                ...   \n",
       "10995  2020-08-07 13:04:00  While this president only cares about the rich...   \n",
       "10996  2020-08-07 02:57:00  RT @DemConvention: If we want to truly honor t...   \n",
       "10997  2020-08-07 01:57:00  Trump failed to take decisive action against t...   \n",
       "10998  2020-08-07 00:57:00  RT @JoeBiden: The fight for civil rights is wh...   \n",
       "10999  2020-08-06 23:57:00  The Senate GOP are dragging their feet on crit...   \n",
       "\n",
       "       Is Republican                                 Cleaned Tweet Text  \n",
       "0                  1   Rain or Shine, Raquel & I are hitting doors f...  \n",
       "1                  1   The road to November continues! Team and #TVM...  \n",
       "2                  1   Trump Victory Fellow & Campus Team Leader Car...  \n",
       "3                  1   HUGE enthusiasm for at our Rally in Cambridge...  \n",
       "4                  1   Incredible #VeteransForTrump and #Sportsmenfo...  \n",
       "...              ...                                                ...  \n",
       "10995              0  While this president only cares about the rich...  \n",
       "10996              0   If we want to truly honor the legacy of John ...  \n",
       "10997              0  Trump failed to take decisive action against t...  \n",
       "10998              0   The fight for civil rights is what drove me t...  \n",
       "10999              0  The Senate GOP are dragging their feet on crit...  \n",
       "\n",
       "[11000 rows x 4 columns]"
      ]
     },
     "execution_count": 11,
     "metadata": {},
     "output_type": "execute_result"
    }
   ],
   "source": [
    "# Check\n",
    "df1"
   ]
  },
  {
   "cell_type": "code",
   "execution_count": 95,
   "metadata": {},
   "outputs": [],
   "source": [
    "# Dropping the unclean column\n",
    "df1.drop('Tweet Text',axis = 1, inplace = True)"
   ]
  },
  {
   "cell_type": "code",
   "execution_count": 96,
   "metadata": {
    "scrolled": true
   },
   "outputs": [
    {
     "data": {
      "text/html": [
       "<div>\n",
       "<style scoped>\n",
       "    .dataframe tbody tr th:only-of-type {\n",
       "        vertical-align: middle;\n",
       "    }\n",
       "\n",
       "    .dataframe tbody tr th {\n",
       "        vertical-align: top;\n",
       "    }\n",
       "\n",
       "    .dataframe thead th {\n",
       "        text-align: right;\n",
       "    }\n",
       "</style>\n",
       "<table border=\"1\" class=\"dataframe\">\n",
       "  <thead>\n",
       "    <tr style=\"text-align: right;\">\n",
       "      <th></th>\n",
       "      <th>Timestamp of Tweet</th>\n",
       "      <th>Is Republican</th>\n",
       "      <th>Cleaned Tweet Text</th>\n",
       "    </tr>\n",
       "  </thead>\n",
       "  <tbody>\n",
       "    <tr>\n",
       "      <th>0</th>\n",
       "      <td>2020-09-12 21:56:57</td>\n",
       "      <td>1</td>\n",
       "      <td>Rain or Shine, Raquel &amp; I are hitting doors f...</td>\n",
       "    </tr>\n",
       "    <tr>\n",
       "      <th>1</th>\n",
       "      <td>2020-09-12 21:55:09</td>\n",
       "      <td>1</td>\n",
       "      <td>The road to November continues! Team and #TVM...</td>\n",
       "    </tr>\n",
       "    <tr>\n",
       "      <th>2</th>\n",
       "      <td>2020-09-12 21:54:40</td>\n",
       "      <td>1</td>\n",
       "      <td>Trump Victory Fellow &amp; Campus Team Leader Car...</td>\n",
       "    </tr>\n",
       "    <tr>\n",
       "      <th>3</th>\n",
       "      <td>2020-09-12 21:53:56</td>\n",
       "      <td>1</td>\n",
       "      <td>HUGE enthusiasm for at our Rally in Cambridge...</td>\n",
       "    </tr>\n",
       "    <tr>\n",
       "      <th>4</th>\n",
       "      <td>2020-09-12 21:52:12</td>\n",
       "      <td>1</td>\n",
       "      <td>Incredible #VeteransForTrump and #Sportsmenfo...</td>\n",
       "    </tr>\n",
       "    <tr>\n",
       "      <th>...</th>\n",
       "      <td>...</td>\n",
       "      <td>...</td>\n",
       "      <td>...</td>\n",
       "    </tr>\n",
       "    <tr>\n",
       "      <th>10995</th>\n",
       "      <td>2020-08-07 13:04:00</td>\n",
       "      <td>0</td>\n",
       "      <td>While this president only cares about the rich...</td>\n",
       "    </tr>\n",
       "    <tr>\n",
       "      <th>10996</th>\n",
       "      <td>2020-08-07 02:57:00</td>\n",
       "      <td>0</td>\n",
       "      <td>If we want to truly honor the legacy of John ...</td>\n",
       "    </tr>\n",
       "    <tr>\n",
       "      <th>10997</th>\n",
       "      <td>2020-08-07 01:57:00</td>\n",
       "      <td>0</td>\n",
       "      <td>Trump failed to take decisive action against t...</td>\n",
       "    </tr>\n",
       "    <tr>\n",
       "      <th>10998</th>\n",
       "      <td>2020-08-07 00:57:00</td>\n",
       "      <td>0</td>\n",
       "      <td>The fight for civil rights is what drove me t...</td>\n",
       "    </tr>\n",
       "    <tr>\n",
       "      <th>10999</th>\n",
       "      <td>2020-08-06 23:57:00</td>\n",
       "      <td>0</td>\n",
       "      <td>The Senate GOP are dragging their feet on crit...</td>\n",
       "    </tr>\n",
       "  </tbody>\n",
       "</table>\n",
       "<p>11000 rows × 3 columns</p>\n",
       "</div>"
      ],
      "text/plain": [
       "        Timestamp of Tweet  Is Republican  \\\n",
       "0      2020-09-12 21:56:57              1   \n",
       "1      2020-09-12 21:55:09              1   \n",
       "2      2020-09-12 21:54:40              1   \n",
       "3      2020-09-12 21:53:56              1   \n",
       "4      2020-09-12 21:52:12              1   \n",
       "...                    ...            ...   \n",
       "10995  2020-08-07 13:04:00              0   \n",
       "10996  2020-08-07 02:57:00              0   \n",
       "10997  2020-08-07 01:57:00              0   \n",
       "10998  2020-08-07 00:57:00              0   \n",
       "10999  2020-08-06 23:57:00              0   \n",
       "\n",
       "                                      Cleaned Tweet Text  \n",
       "0       Rain or Shine, Raquel & I are hitting doors f...  \n",
       "1       The road to November continues! Team and #TVM...  \n",
       "2       Trump Victory Fellow & Campus Team Leader Car...  \n",
       "3       HUGE enthusiasm for at our Rally in Cambridge...  \n",
       "4       Incredible #VeteransForTrump and #Sportsmenfo...  \n",
       "...                                                  ...  \n",
       "10995  While this president only cares about the rich...  \n",
       "10996   If we want to truly honor the legacy of John ...  \n",
       "10997  Trump failed to take decisive action against t...  \n",
       "10998   The fight for civil rights is what drove me t...  \n",
       "10999  The Senate GOP are dragging their feet on crit...  \n",
       "\n",
       "[11000 rows x 3 columns]"
      ]
     },
     "execution_count": 96,
     "metadata": {},
     "output_type": "execute_result"
    }
   ],
   "source": [
    "# Check\n",
    "df1"
   ]
  },
  {
   "cell_type": "code",
   "execution_count": 12,
   "metadata": {},
   "outputs": [],
   "source": [
    "# Dropping the timestamp column since we wont need it\n",
    "df2 = df1.drop('Timestamp of Tweet',axis = 1)"
   ]
  },
  {
   "cell_type": "code",
   "execution_count": 13,
   "metadata": {
    "scrolled": true
   },
   "outputs": [
    {
     "data": {
      "text/html": [
       "<div>\n",
       "<style scoped>\n",
       "    .dataframe tbody tr th:only-of-type {\n",
       "        vertical-align: middle;\n",
       "    }\n",
       "\n",
       "    .dataframe tbody tr th {\n",
       "        vertical-align: top;\n",
       "    }\n",
       "\n",
       "    .dataframe thead th {\n",
       "        text-align: right;\n",
       "    }\n",
       "</style>\n",
       "<table border=\"1\" class=\"dataframe\">\n",
       "  <thead>\n",
       "    <tr style=\"text-align: right;\">\n",
       "      <th></th>\n",
       "      <th>Tweet Text</th>\n",
       "      <th>Is Republican</th>\n",
       "      <th>Cleaned Tweet Text</th>\n",
       "    </tr>\n",
       "  </thead>\n",
       "  <tbody>\n",
       "    <tr>\n",
       "      <th>0</th>\n",
       "      <td>RT @rpof_gamble: Rain🌧 or Shine🌞, Raquel &amp;amp;...</td>\n",
       "      <td>1</td>\n",
       "      <td>Rain or Shine, Raquel &amp; I are hitting doors f...</td>\n",
       "    </tr>\n",
       "    <tr>\n",
       "      <th>1</th>\n",
       "      <td>RT @mfreckletonGOP: The road to November conti...</td>\n",
       "      <td>1</td>\n",
       "      <td>The road to November continues! Team and #TVM...</td>\n",
       "    </tr>\n",
       "    <tr>\n",
       "      <th>2</th>\n",
       "      <td>RT @oliviaintheusa: Trump Victory Fellow &amp;amp;...</td>\n",
       "      <td>1</td>\n",
       "      <td>Trump Victory Fellow &amp; Campus Team Leader Car...</td>\n",
       "    </tr>\n",
       "    <tr>\n",
       "      <th>3</th>\n",
       "      <td>RT @EliseStefanik: HUGE enthusiasm for @realDo...</td>\n",
       "      <td>1</td>\n",
       "      <td>HUGE enthusiasm for at our Rally in Cambridge...</td>\n",
       "    </tr>\n",
       "    <tr>\n",
       "      <th>4</th>\n",
       "      <td>RT @sukyeesmith: Incredible #VeteransForTrump ...</td>\n",
       "      <td>1</td>\n",
       "      <td>Incredible #VeteransForTrump and #Sportsmenfo...</td>\n",
       "    </tr>\n",
       "    <tr>\n",
       "      <th>...</th>\n",
       "      <td>...</td>\n",
       "      <td>...</td>\n",
       "      <td>...</td>\n",
       "    </tr>\n",
       "    <tr>\n",
       "      <th>10995</th>\n",
       "      <td>While this president only cares about the rich...</td>\n",
       "      <td>0</td>\n",
       "      <td>While this president only cares about the rich...</td>\n",
       "    </tr>\n",
       "    <tr>\n",
       "      <th>10996</th>\n",
       "      <td>RT @DemConvention: If we want to truly honor t...</td>\n",
       "      <td>0</td>\n",
       "      <td>If we want to truly honor the legacy of John ...</td>\n",
       "    </tr>\n",
       "    <tr>\n",
       "      <th>10997</th>\n",
       "      <td>Trump failed to take decisive action against t...</td>\n",
       "      <td>0</td>\n",
       "      <td>Trump failed to take decisive action against t...</td>\n",
       "    </tr>\n",
       "    <tr>\n",
       "      <th>10998</th>\n",
       "      <td>RT @JoeBiden: The fight for civil rights is wh...</td>\n",
       "      <td>0</td>\n",
       "      <td>The fight for civil rights is what drove me t...</td>\n",
       "    </tr>\n",
       "    <tr>\n",
       "      <th>10999</th>\n",
       "      <td>The Senate GOP are dragging their feet on crit...</td>\n",
       "      <td>0</td>\n",
       "      <td>The Senate GOP are dragging their feet on crit...</td>\n",
       "    </tr>\n",
       "  </tbody>\n",
       "</table>\n",
       "<p>11000 rows × 3 columns</p>\n",
       "</div>"
      ],
      "text/plain": [
       "                                              Tweet Text  Is Republican  \\\n",
       "0      RT @rpof_gamble: Rain🌧 or Shine🌞, Raquel &amp;...              1   \n",
       "1      RT @mfreckletonGOP: The road to November conti...              1   \n",
       "2      RT @oliviaintheusa: Trump Victory Fellow &amp;...              1   \n",
       "3      RT @EliseStefanik: HUGE enthusiasm for @realDo...              1   \n",
       "4      RT @sukyeesmith: Incredible #VeteransForTrump ...              1   \n",
       "...                                                  ...            ...   \n",
       "10995  While this president only cares about the rich...              0   \n",
       "10996  RT @DemConvention: If we want to truly honor t...              0   \n",
       "10997  Trump failed to take decisive action against t...              0   \n",
       "10998  RT @JoeBiden: The fight for civil rights is wh...              0   \n",
       "10999  The Senate GOP are dragging their feet on crit...              0   \n",
       "\n",
       "                                      Cleaned Tweet Text  \n",
       "0       Rain or Shine, Raquel & I are hitting doors f...  \n",
       "1       The road to November continues! Team and #TVM...  \n",
       "2       Trump Victory Fellow & Campus Team Leader Car...  \n",
       "3       HUGE enthusiasm for at our Rally in Cambridge...  \n",
       "4       Incredible #VeteransForTrump and #Sportsmenfo...  \n",
       "...                                                  ...  \n",
       "10995  While this president only cares about the rich...  \n",
       "10996   If we want to truly honor the legacy of John ...  \n",
       "10997  Trump failed to take decisive action against t...  \n",
       "10998   The fight for civil rights is what drove me t...  \n",
       "10999  The Senate GOP are dragging their feet on crit...  \n",
       "\n",
       "[11000 rows x 3 columns]"
      ]
     },
     "execution_count": 13,
     "metadata": {},
     "output_type": "execute_result"
    }
   ],
   "source": [
    "# Check\n",
    "df2"
   ]
  },
  {
   "cell_type": "code",
   "execution_count": 14,
   "metadata": {},
   "outputs": [],
   "source": [
    "# Setting the variables\n",
    "X = df2['Cleaned Tweet Text']\n",
    "y = df2['Is Republican']"
   ]
  },
  {
   "cell_type": "code",
   "execution_count": 15,
   "metadata": {},
   "outputs": [],
   "source": [
    "# Creating train test split before the vectorizing\n",
    "X_train, X_test, y_train, y_test = train_test_split(X, y, test_size=0.25, random_state=9)"
   ]
  },
  {
   "cell_type": "code",
   "execution_count": 18,
   "metadata": {},
   "outputs": [
    {
     "name": "stdout",
     "output_type": "stream",
     "text": [
      "Democratic Tokens\n"
     ]
    },
    {
     "data": {
      "text/plain": [
       "array(['demconvention', 'donald', 'democracy', 'climate', 'build', 'plan',\n",
       "       'heroesact', 'trump', 'need', 'elect', 'white', 'racism', 'fight',\n",
       "       'together', 'change', 'crisis', 'vote', 'everyone', 'fitn', 'us',\n",
       "       'people', 'black', 'voting', 'ballot', 'must', 'moment', 'promise',\n",
       "       'hampshire', 'health', 'country', 'pandemic', 'mail', 'better',\n",
       "       'covid', 'dejoy', 'leadership', 'workers', 'families', 'iowa',\n",
       "       'early', 'next', 'wealth', 'future', 'racial', 'got', 'tonight',\n",
       "       'failed', 'family', 'capitol', 'mask'], dtype=object)"
      ]
     },
     "metadata": {},
     "output_type": "display_data"
    },
    {
     "name": "stdout",
     "output_type": "stream",
     "text": [
      "Republican Tokens\n"
     ]
    },
    {
     "data": {
      "text/plain": [
       "array(['proverbs', 'tennessee', 'covid19', 'comeback', 'open', 'nancy',\n",
       "       'pence', 'texas', 'republican', 'chinas', 'reform', 'added',\n",
       "       'thread', 'government', 'football', 'weeks', 'american', 'rate',\n",
       "       'police', '100yearsofwomenssuffrage', 'dems', 'operation',\n",
       "       'liberal', 'great', 'houston', 'home', 'greatest', 'law',\n",
       "       'speaker', 'lord', 'wewanttoplay', 'florida', 'pennsylvania',\n",
       "       'ccp', 'cuomo', 'fbi', 'carolina', 'nursing', 'god', 'mob',\n",
       "       'biden', 'communist', 'chinese', 'fisa', 'left', 'democrat',\n",
       "       'pelosi', 'china', 'democrats', 'rnc2020'], dtype=object)"
      ]
     },
     "metadata": {},
     "output_type": "display_data"
    }
   ],
   "source": [
    "# Running our most successful model from the last workbook\n",
    "tfidf = TfidfVectorizer(min_df=5, stop_words=ENGLISH_STOP_WORDS)\n",
    "tfidf.fit(X_train)\n",
    "X_train_tfidf = tfidf.transform(X_train)\n",
    "X_test_tfidf = tfidf.transform(X_test)\n",
    "\n",
    "# fit the model\n",
    "my_best_model = LogisticRegression(C=1)\n",
    "my_best_model.fit(X_train_tfidf, y_train)\n",
    "\n",
    "# extract the coefficients\n",
    "coefs = my_best_model.coef_\n",
    "tokens = tfidf.get_feature_names()\n",
    "results = pd.DataFrame({'tokens': tokens, 'coef': coefs[0]})\n",
    "\n",
    "# Sort the rows by the coefficient of the word/token (from lowest to highest)\n",
    "results.sort_values(by='coef', inplace=True)\n",
    "\n",
    "print(\"Democratic Tokens\")\n",
    "display(results.head(50).tokens.values)\n",
    "\n",
    "\n",
    "print(\"Republican Tokens\")\n",
    "display(results.tail(50).tokens.values)"
   ]
  },
  {
   "cell_type": "code",
   "execution_count": 35,
   "metadata": {},
   "outputs": [
    {
     "name": "stderr",
     "output_type": "stream",
     "text": [
      "[nltk_data] Downloading package stopwords to\n",
      "[nltk_data]     C:\\Users\\chadh\\AppData\\Roaming\\nltk_data...\n",
      "[nltk_data]   Package stopwords is already up-to-date!\n"
     ]
    }
   ],
   "source": [
    "# Optimizing min_df parameter\n",
    "dfvalue = [1,2,3,4,5,6,7,8,9,10]\n",
    "nltk.download('stopwords')\n",
    "ENGLISH_STOP_WORDS = stopwords.words('english')\n",
    "\n",
    "results_df = pd.DataFrame(index=dfvalue, \n",
    "                          columns=[\"Training Accuracies\", \"Test Accuracies\", \"Min_DF\"])\n",
    "for d in dfvalue:\n",
    "    tfidf = TfidfVectorizer(min_df=d, stop_words=ENGLISH_STOP_WORDS)\n",
    "    tfidf.fit(X_train)\n",
    "    X_train_tfidf = tfidf.transform(X_train)\n",
    "    X_test_tfidf = tfidf.transform(X_test)\n",
    "\n",
    "    # fit the model\n",
    "    lr_model = LogisticRegression(C=1)\n",
    "    lr_model.fit(X_train_tfidf, y_train)\n",
    "    \n",
    "    results_df.loc[d, \"Training Accuracies\"] = lr_model.score(X_train_tfidf, y_train)\n",
    "    results_df.loc[d, \"Test Accuracies\"] = lr_model.score(X_test_tfidf, y_test)\n",
    "    results_df.loc[d, \"Min_DF\"] = d"
   ]
  },
  {
   "cell_type": "code",
   "execution_count": 22,
   "metadata": {
    "scrolled": true
   },
   "outputs": [
    {
     "data": {
      "text/html": [
       "<style  type=\"text/css\" >\n",
       "    #T_7f584103_0387_11eb_ae4f_0c9d921c04d8row0_col0 {\n",
       "            background-color:  #08306b;\n",
       "            color:  #f1f1f1;\n",
       "        }    #T_7f584103_0387_11eb_ae4f_0c9d921c04d8row0_col1 {\n",
       "            background-color:  #08306b;\n",
       "            color:  #f1f1f1;\n",
       "        }    #T_7f584103_0387_11eb_ae4f_0c9d921c04d8row1_col0 {\n",
       "            background-color:  #09529d;\n",
       "            color:  #f1f1f1;\n",
       "        }    #T_7f584103_0387_11eb_ae4f_0c9d921c04d8row1_col1 {\n",
       "            background-color:  #1a68ae;\n",
       "            color:  #f1f1f1;\n",
       "        }    #T_7f584103_0387_11eb_ae4f_0c9d921c04d8row2_col0 {\n",
       "            background-color:  #2272b6;\n",
       "            color:  #f1f1f1;\n",
       "        }    #T_7f584103_0387_11eb_ae4f_0c9d921c04d8row2_col1 {\n",
       "            background-color:  #1e6db2;\n",
       "            color:  #f1f1f1;\n",
       "        }    #T_7f584103_0387_11eb_ae4f_0c9d921c04d8row3_col0 {\n",
       "            background-color:  #4695c8;\n",
       "            color:  #000000;\n",
       "        }    #T_7f584103_0387_11eb_ae4f_0c9d921c04d8row3_col1 {\n",
       "            background-color:  #3787c0;\n",
       "            color:  #000000;\n",
       "        }    #T_7f584103_0387_11eb_ae4f_0c9d921c04d8row4_col0 {\n",
       "            background-color:  #74b3d8;\n",
       "            color:  #000000;\n",
       "        }    #T_7f584103_0387_11eb_ae4f_0c9d921c04d8row4_col1 {\n",
       "            background-color:  #549fcd;\n",
       "            color:  #000000;\n",
       "        }    #T_7f584103_0387_11eb_ae4f_0c9d921c04d8row5_col0 {\n",
       "            background-color:  #8fc2de;\n",
       "            color:  #000000;\n",
       "        }    #T_7f584103_0387_11eb_ae4f_0c9d921c04d8row5_col1 {\n",
       "            background-color:  #87bddc;\n",
       "            color:  #000000;\n",
       "        }    #T_7f584103_0387_11eb_ae4f_0c9d921c04d8row6_col0 {\n",
       "            background-color:  #abd0e6;\n",
       "            color:  #000000;\n",
       "        }    #T_7f584103_0387_11eb_ae4f_0c9d921c04d8row6_col1 {\n",
       "            background-color:  #abd0e6;\n",
       "            color:  #000000;\n",
       "        }    #T_7f584103_0387_11eb_ae4f_0c9d921c04d8row7_col0 {\n",
       "            background-color:  #cadef0;\n",
       "            color:  #000000;\n",
       "        }    #T_7f584103_0387_11eb_ae4f_0c9d921c04d8row7_col1 {\n",
       "            background-color:  #e7f1fa;\n",
       "            color:  #000000;\n",
       "        }    #T_7f584103_0387_11eb_ae4f_0c9d921c04d8row8_col0 {\n",
       "            background-color:  #dfebf7;\n",
       "            color:  #000000;\n",
       "        }    #T_7f584103_0387_11eb_ae4f_0c9d921c04d8row8_col1 {\n",
       "            background-color:  #f7fbff;\n",
       "            color:  #000000;\n",
       "        }    #T_7f584103_0387_11eb_ae4f_0c9d921c04d8row9_col0 {\n",
       "            background-color:  #f7fbff;\n",
       "            color:  #000000;\n",
       "        }    #T_7f584103_0387_11eb_ae4f_0c9d921c04d8row9_col1 {\n",
       "            background-color:  #f7fbff;\n",
       "            color:  #000000;\n",
       "        }</style><table id=\"T_7f584103_0387_11eb_ae4f_0c9d921c04d8\" ><thead>    <tr>        <th class=\"blank level0\" ></th>        <th class=\"col_heading level0 col0\" >Training Accuracies</th>        <th class=\"col_heading level0 col1\" >Test Accuracies</th>        <th class=\"col_heading level0 col2\" >Min_DF</th>    </tr></thead><tbody>\n",
       "                <tr>\n",
       "                        <th id=\"T_7f584103_0387_11eb_ae4f_0c9d921c04d8level0_row0\" class=\"row_heading level0 row0\" >1</th>\n",
       "                        <td id=\"T_7f584103_0387_11eb_ae4f_0c9d921c04d8row0_col0\" class=\"data row0 col0\" >0.903515</td>\n",
       "                        <td id=\"T_7f584103_0387_11eb_ae4f_0c9d921c04d8row0_col1\" class=\"data row0 col1\" >0.819273</td>\n",
       "                        <td id=\"T_7f584103_0387_11eb_ae4f_0c9d921c04d8row0_col2\" class=\"data row0 col2\" >1</td>\n",
       "            </tr>\n",
       "            <tr>\n",
       "                        <th id=\"T_7f584103_0387_11eb_ae4f_0c9d921c04d8level0_row1\" class=\"row_heading level0 row1\" >2</th>\n",
       "                        <td id=\"T_7f584103_0387_11eb_ae4f_0c9d921c04d8row1_col0\" class=\"data row1 col0\" >0.899273</td>\n",
       "                        <td id=\"T_7f584103_0387_11eb_ae4f_0c9d921c04d8row1_col1\" class=\"data row1 col1\" >0.815273</td>\n",
       "                        <td id=\"T_7f584103_0387_11eb_ae4f_0c9d921c04d8row1_col2\" class=\"data row1 col2\" >2</td>\n",
       "            </tr>\n",
       "            <tr>\n",
       "                        <th id=\"T_7f584103_0387_11eb_ae4f_0c9d921c04d8level0_row2\" class=\"row_heading level0 row2\" >3</th>\n",
       "                        <td id=\"T_7f584103_0387_11eb_ae4f_0c9d921c04d8row2_col0\" class=\"data row2 col0\" >0.895152</td>\n",
       "                        <td id=\"T_7f584103_0387_11eb_ae4f_0c9d921c04d8row2_col1\" class=\"data row2 col1\" >0.814909</td>\n",
       "                        <td id=\"T_7f584103_0387_11eb_ae4f_0c9d921c04d8row2_col2\" class=\"data row2 col2\" >3</td>\n",
       "            </tr>\n",
       "            <tr>\n",
       "                        <th id=\"T_7f584103_0387_11eb_ae4f_0c9d921c04d8level0_row3\" class=\"row_heading level0 row3\" >4</th>\n",
       "                        <td id=\"T_7f584103_0387_11eb_ae4f_0c9d921c04d8row3_col0\" class=\"data row3 col0\" >0.890909</td>\n",
       "                        <td id=\"T_7f584103_0387_11eb_ae4f_0c9d921c04d8row3_col1\" class=\"data row3 col1\" >0.813091</td>\n",
       "                        <td id=\"T_7f584103_0387_11eb_ae4f_0c9d921c04d8row3_col2\" class=\"data row3 col2\" >4</td>\n",
       "            </tr>\n",
       "            <tr>\n",
       "                        <th id=\"T_7f584103_0387_11eb_ae4f_0c9d921c04d8level0_row4\" class=\"row_heading level0 row4\" >5</th>\n",
       "                        <td id=\"T_7f584103_0387_11eb_ae4f_0c9d921c04d8row4_col0\" class=\"data row4 col0\" >0.886545</td>\n",
       "                        <td id=\"T_7f584103_0387_11eb_ae4f_0c9d921c04d8row4_col1\" class=\"data row4 col1\" >0.811273</td>\n",
       "                        <td id=\"T_7f584103_0387_11eb_ae4f_0c9d921c04d8row4_col2\" class=\"data row4 col2\" >5</td>\n",
       "            </tr>\n",
       "            <tr>\n",
       "                        <th id=\"T_7f584103_0387_11eb_ae4f_0c9d921c04d8level0_row5\" class=\"row_heading level0 row5\" >6</th>\n",
       "                        <td id=\"T_7f584103_0387_11eb_ae4f_0c9d921c04d8row5_col0\" class=\"data row5 col0\" >0.884364</td>\n",
       "                        <td id=\"T_7f584103_0387_11eb_ae4f_0c9d921c04d8row5_col1\" class=\"data row5 col1\" >0.808727</td>\n",
       "                        <td id=\"T_7f584103_0387_11eb_ae4f_0c9d921c04d8row5_col2\" class=\"data row5 col2\" >6</td>\n",
       "            </tr>\n",
       "            <tr>\n",
       "                        <th id=\"T_7f584103_0387_11eb_ae4f_0c9d921c04d8level0_row6\" class=\"row_heading level0 row6\" >7</th>\n",
       "                        <td id=\"T_7f584103_0387_11eb_ae4f_0c9d921c04d8row6_col0\" class=\"data row6 col0\" >0.881939</td>\n",
       "                        <td id=\"T_7f584103_0387_11eb_ae4f_0c9d921c04d8row6_col1\" class=\"data row6 col1\" >0.806909</td>\n",
       "                        <td id=\"T_7f584103_0387_11eb_ae4f_0c9d921c04d8row6_col2\" class=\"data row6 col2\" >7</td>\n",
       "            </tr>\n",
       "            <tr>\n",
       "                        <th id=\"T_7f584103_0387_11eb_ae4f_0c9d921c04d8level0_row7\" class=\"row_heading level0 row7\" >8</th>\n",
       "                        <td id=\"T_7f584103_0387_11eb_ae4f_0c9d921c04d8row7_col0\" class=\"data row7 col0\" >0.878424</td>\n",
       "                        <td id=\"T_7f584103_0387_11eb_ae4f_0c9d921c04d8row7_col1\" class=\"data row7 col1\" >0.802182</td>\n",
       "                        <td id=\"T_7f584103_0387_11eb_ae4f_0c9d921c04d8row7_col2\" class=\"data row7 col2\" >8</td>\n",
       "            </tr>\n",
       "            <tr>\n",
       "                        <th id=\"T_7f584103_0387_11eb_ae4f_0c9d921c04d8level0_row8\" class=\"row_heading level0 row8\" >9</th>\n",
       "                        <td id=\"T_7f584103_0387_11eb_ae4f_0c9d921c04d8row8_col0\" class=\"data row8 col0\" >0.875030</td>\n",
       "                        <td id=\"T_7f584103_0387_11eb_ae4f_0c9d921c04d8row8_col1\" class=\"data row8 col1\" >0.800727</td>\n",
       "                        <td id=\"T_7f584103_0387_11eb_ae4f_0c9d921c04d8row8_col2\" class=\"data row8 col2\" >9</td>\n",
       "            </tr>\n",
       "            <tr>\n",
       "                        <th id=\"T_7f584103_0387_11eb_ae4f_0c9d921c04d8level0_row9\" class=\"row_heading level0 row9\" >10</th>\n",
       "                        <td id=\"T_7f584103_0387_11eb_ae4f_0c9d921c04d8row9_col0\" class=\"data row9 col0\" >0.871030</td>\n",
       "                        <td id=\"T_7f584103_0387_11eb_ae4f_0c9d921c04d8row9_col1\" class=\"data row9 col1\" >0.800727</td>\n",
       "                        <td id=\"T_7f584103_0387_11eb_ae4f_0c9d921c04d8row9_col2\" class=\"data row9 col2\" >10</td>\n",
       "            </tr>\n",
       "    </tbody></table>"
      ],
      "text/plain": [
       "<pandas.io.formats.style.Styler at 0x1f218d47af0>"
      ]
     },
     "metadata": {},
     "output_type": "display_data"
    }
   ],
   "source": [
    "# display with a heatmap background\n",
    "display(results_df.apply(pd.to_numeric).style.background_gradient(cmap='Blues', \n",
    "                                                                  axis=0, \n",
    "                                                                  subset = [\"Training Accuracies\", \"Test Accuracies\"]))"
   ]
  },
  {
   "cell_type": "markdown",
   "metadata": {},
   "source": [
    "Looks like the min_df of 5 worked best so we will stick with that. Lets try some different ML models."
   ]
  },
  {
   "cell_type": "code",
   "execution_count": null,
   "metadata": {},
   "outputs": [],
   "source": [
    "# GridSearch for the best TF-IDF model\n",
    "\n",
    "from sklearn.pipeline import make_pipeline\n",
    "\n",
    "# 2. Setup the param grid\n",
    "param_grid = [\n",
    "    {'classifier__C':[0.0001, 0.001, 0.01, 0.1, 1, 10, 100, 1000]}, \n",
    "    {'classifier':[KNeighborsClassifier()],\n",
    "     'classifier__n_neighbors':[1,2,3,4,5,6,7,8,9,10]},\n",
    "    {'classifier':[DecisionTreeClassifier()],\n",
    "     'classifier__max_depth':[1,2,3,4,5,6,7,8,9,10]}] # Decision Tree with PCA"
   ]
  },
  {
   "cell_type": "code",
   "execution_count": 184,
   "metadata": {},
   "outputs": [],
   "source": [
    "from sklearn.pipeline import Pipeline\n",
    "# 1. Make the pipeline (instantiate a placeholder)\n",
    "estimators = [('classifier', LogisticRegression())]\n",
    "mypipeline = Pipeline(estimators)"
   ]
  },
  {
   "cell_type": "code",
   "execution_count": 36,
   "metadata": {},
   "outputs": [],
   "source": [
    "# prepare the data\n",
    "tfidf = TfidfVectorizer(min_df=5, stop_words=ENGLISH_STOP_WORDS)\n",
    "tfidf.fit(X_train)\n",
    "X_train_tfidf = tfidf.transform(X_train)\n",
    "X_test_tfidf = tfidf.transform(X_test)"
   ]
  },
  {
   "cell_type": "code",
   "execution_count": 37,
   "metadata": {},
   "outputs": [
    {
     "data": {
      "text/plain": [
       "(8250, 3654)"
      ]
     },
     "execution_count": 37,
     "metadata": {},
     "output_type": "execute_result"
    }
   ],
   "source": [
    "# Checking the shapes\n",
    "X_train_tfidf.shape"
   ]
  },
  {
   "cell_type": "code",
   "execution_count": 187,
   "metadata": {},
   "outputs": [
    {
     "data": {
      "text/plain": [
       "(8250,)"
      ]
     },
     "execution_count": 187,
     "metadata": {},
     "output_type": "execute_result"
    }
   ],
   "source": [
    "y_train.shape"
   ]
  },
  {
   "cell_type": "code",
   "execution_count": 188,
   "metadata": {},
   "outputs": [],
   "source": [
    "mygs = GridSearchCV(mypipeline, param_grid=param_grid, cv=5, n_jobs=-1, verbose=1)"
   ]
  },
  {
   "cell_type": "code",
   "execution_count": 189,
   "metadata": {},
   "outputs": [
    {
     "name": "stdout",
     "output_type": "stream",
     "text": [
      "Fitting 5 folds for each of 28 candidates, totalling 140 fits\n"
     ]
    },
    {
     "name": "stderr",
     "output_type": "stream",
     "text": [
      "[Parallel(n_jobs=-1)]: Using backend LokyBackend with 6 concurrent workers.\n",
      "[Parallel(n_jobs=-1)]: Done  38 tasks      | elapsed:    2.2s\n",
      "[Parallel(n_jobs=-1)]: Done 140 out of 140 | elapsed:    8.0s finished\n"
     ]
    },
    {
     "data": {
      "text/plain": [
       "GridSearchCV(cv=5,\n",
       "             estimator=Pipeline(steps=[('classifier', LogisticRegression())]),\n",
       "             n_jobs=-1,\n",
       "             param_grid=[{'classifier__C': [0.0001, 0.001, 0.01, 0.1, 1, 10,\n",
       "                                            100, 1000]},\n",
       "                         {'classifier': [KNeighborsClassifier()],\n",
       "                          'classifier__n_neighbors': [1, 2, 3, 4, 5, 6, 7, 8, 9,\n",
       "                                                      10]},\n",
       "                         {'classifier': [DecisionTreeClassifier()],\n",
       "                          'classifier__max_depth': [1, 2, 3, 4, 5, 6, 7, 8, 9,\n",
       "                                                    10]}],\n",
       "             verbose=1)"
      ]
     },
     "execution_count": 189,
     "metadata": {},
     "output_type": "execute_result"
    }
   ],
   "source": [
    "# 4. Fit\n",
    "mygs.fit(X_train_tfidf, y_train)"
   ]
  },
  {
   "cell_type": "code",
   "execution_count": 190,
   "metadata": {},
   "outputs": [
    {
     "data": {
      "text/plain": [
       "Pipeline(steps=[('classifier', LogisticRegression(C=1))])"
      ]
     },
     "execution_count": 190,
     "metadata": {},
     "output_type": "execute_result"
    }
   ],
   "source": [
    "mygs.best_estimator_"
   ]
  },
  {
   "cell_type": "code",
   "execution_count": 213,
   "metadata": {
    "scrolled": true
   },
   "outputs": [
    {
     "data": {
      "text/plain": [
       "0.8112727272727273"
      ]
     },
     "execution_count": 213,
     "metadata": {},
     "output_type": "execute_result"
    }
   ],
   "source": [
    "# 5. Score\n",
    "mygs.score(X_test_tfidf, y_test)"
   ]
  },
  {
   "cell_type": "markdown",
   "metadata": {},
   "source": [
    "Looks like the original Logistic Regression model we have already run worked the best: TF-IDF vectorizer with min_df of 5 and an L2 regularization of C=1. Lets try a count vectorizer for experiment's sake even though it doesnt perform well and see if the highly predictive words change."
   ]
  },
  {
   "cell_type": "code",
   "execution_count": 19,
   "metadata": {
    "scrolled": false
   },
   "outputs": [
    {
     "name": "stdout",
     "output_type": "stream",
     "text": [
      "Democratic Tokens\n"
     ]
    },
    {
     "data": {
      "text/plain": [
       "array(['demconvention', 'climate', 'heroesact', 'fitn', 'donald',\n",
       "       'democracy', 'racism', 'elect', 'international',\n",
       "       'justiceinpolicing', 'g7parliament', 'urgently', 'promisesbroken',\n",
       "       'dejoy', 'educators', 'promise', 'bennet', 'ice', 'build',\n",
       "       'progressive', 'bounties', 'iowa', 'mind', 'trumpchaos',\n",
       "       'affordable', 'etc', 'something', 'klobuchar', 'misinformation',\n",
       "       'realdealroadtrip', 'moral', 'nhprimary2020', 'dontmesswithusps',\n",
       "       'daughter', 'housing', 'investing', 'el', 'capitol', 'wealth',\n",
       "       'colorado', 'transform', 'presidency', 'accountability',\n",
       "       'financial', 'designed', 'organize', 'hampshire', 'familiesfirst',\n",
       "       'square', 'postmaster'], dtype=object)"
      ]
     },
     "metadata": {},
     "output_type": "display_data"
    },
    {
     "name": "stdout",
     "output_type": "stream",
     "text": [
      "Republican Tokens\n"
     ]
    },
    {
     "data": {
      "text/plain": [
       "array(['robert', 'supply', 'analysis', 'phase', 'tiktok', 'restrictions',\n",
       "       'proverbs', 'judges', 'wow', 'florida', 'comeback', 'confidence',\n",
       "       'pence', 'psalms', 'weeks', 'fbi', 'laid', 'storm',\n",
       "       'smallbusiness', 'expected', 'rebuilding', 'proxy', 'kelley',\n",
       "       'tennessee', 'usmca', '100yearsofwomenssuffrage', 'added',\n",
       "       'operation', 'left', 'football', 'china', 'liberal', 'cuomo',\n",
       "       'god', 'greatest', 'pennsylvania', 'lord', 'wewanttoplay',\n",
       "       'thread', 'mob', 'houston', 'carolina', 'ccp', 'democrats',\n",
       "       'communist', 'chinese', 'fisa', 'democrat', 'pelosi', 'rnc2020'],\n",
       "      dtype=object)"
      ]
     },
     "metadata": {},
     "output_type": "display_data"
    }
   ],
   "source": [
    "# Fitting a countvectorizer and taking a look at the tokens\n",
    "countvec = CountVectorizer(min_df=5, stop_words=ENGLISH_STOP_WORDS)\n",
    "countvec.fit(X_train)\n",
    "X_train_countvec = countvec.transform(X_train)\n",
    "X_test_countvec = countvec.transform(X_test)\n",
    "\n",
    "# fit the model\n",
    "my_best_model2 = LogisticRegression(C=1)\n",
    "my_best_model2.fit(X_train_countvec, y_train)\n",
    "\n",
    "# extract the coefficients\n",
    "coefs = my_best_model2.coef_\n",
    "tokens = countvec.get_feature_names()\n",
    "results2 = pd.DataFrame({'tokens': tokens, 'coef': coefs[0]})\n",
    "\n",
    "# Sort the rows by the coefficient of the word/token (from lowest to highest)\n",
    "results2.sort_values(by='coef', inplace=True)\n",
    "\n",
    "print(\"Democratic Tokens\")\n",
    "display(results2.head(50).tokens.values)\n",
    "\n",
    "\n",
    "print(\"Republican Tokens\")\n",
    "display(results2.tail(50).tokens.values)"
   ]
  },
  {
   "cell_type": "markdown",
   "metadata": {},
   "source": [
    "Looks like most of the words stayed the same here with some minor differences!"
   ]
  },
  {
   "cell_type": "code",
   "execution_count": 212,
   "metadata": {},
   "outputs": [
    {
     "data": {
      "text/plain": [
       "0.8141818181818182"
      ]
     },
     "execution_count": 212,
     "metadata": {},
     "output_type": "execute_result"
    }
   ],
   "source": [
    "my_best_model2.score(X_test_countvec, y_test)"
   ]
  },
  {
   "cell_type": "code",
   "execution_count": 201,
   "metadata": {},
   "outputs": [],
   "source": [
    "from sklearn.pipeline import make_pipeline\n",
    "\n",
    "# 2. Setup the param grid\n",
    "param_grid2 = [\n",
    "    {'classifier__C':[0.0001, 0.001, 0.01, 0.1, 1, 10, 100, 1000]}, \n",
    "    {'classifier':[KNeighborsClassifier()],\n",
    "     'classifier__n_neighbors':[1,2,3,4,5,6,7,8,9,10]},\n",
    "    {'classifier':[DecisionTreeClassifier()],\n",
    "     'classifier__max_depth':[1,2,3,4,5,6,7,8,9,10]}] # Decision Tree with PCA"
   ]
  },
  {
   "cell_type": "code",
   "execution_count": 202,
   "metadata": {},
   "outputs": [],
   "source": [
    "from sklearn.pipeline import Pipeline\n",
    "# 1. Make the pipeline (instantiate a placeholder)\n",
    "estimators2 = [('classifier', LogisticRegression())]\n",
    "mypipeline2 = Pipeline(estimators2)"
   ]
  },
  {
   "cell_type": "code",
   "execution_count": 203,
   "metadata": {},
   "outputs": [
    {
     "data": {
      "text/plain": [
       "(8250, 3654)"
      ]
     },
     "execution_count": 203,
     "metadata": {},
     "output_type": "execute_result"
    }
   ],
   "source": [
    "X_train_countvec.shape"
   ]
  },
  {
   "cell_type": "code",
   "execution_count": 204,
   "metadata": {},
   "outputs": [
    {
     "data": {
      "text/plain": [
       "(8250,)"
      ]
     },
     "execution_count": 204,
     "metadata": {},
     "output_type": "execute_result"
    }
   ],
   "source": [
    "y_train.shape"
   ]
  },
  {
   "cell_type": "code",
   "execution_count": 205,
   "metadata": {},
   "outputs": [],
   "source": [
    "mygs2 = GridSearchCV(mypipeline2, param_grid=param_grid2, cv=5, n_jobs=-1, verbose=1)"
   ]
  },
  {
   "cell_type": "code",
   "execution_count": 206,
   "metadata": {},
   "outputs": [
    {
     "name": "stdout",
     "output_type": "stream",
     "text": [
      "Fitting 5 folds for each of 28 candidates, totalling 140 fits\n"
     ]
    },
    {
     "name": "stderr",
     "output_type": "stream",
     "text": [
      "[Parallel(n_jobs=-1)]: Using backend LokyBackend with 6 concurrent workers.\n",
      "[Parallel(n_jobs=-1)]: Done  38 tasks      | elapsed:    1.9s\n",
      "[Parallel(n_jobs=-1)]: Done 129 out of 140 | elapsed:    6.6s remaining:    0.5s\n",
      "[Parallel(n_jobs=-1)]: Done 140 out of 140 | elapsed:    6.7s finished\n"
     ]
    },
    {
     "data": {
      "text/plain": [
       "GridSearchCV(cv=5,\n",
       "             estimator=Pipeline(steps=[('classifier', LogisticRegression())]),\n",
       "             n_jobs=-1,\n",
       "             param_grid=[{'classifier__C': [0.0001, 0.001, 0.01, 0.1, 1, 10,\n",
       "                                            100, 1000]},\n",
       "                         {'classifier': [KNeighborsClassifier()],\n",
       "                          'classifier__n_neighbors': [1, 2, 3, 4, 5, 6, 7, 8, 9,\n",
       "                                                      10]},\n",
       "                         {'classifier': [DecisionTreeClassifier()],\n",
       "                          'classifier__max_depth': [1, 2, 3, 4, 5, 6, 7, 8, 9,\n",
       "                                                    10]}],\n",
       "             verbose=1)"
      ]
     },
     "execution_count": 206,
     "metadata": {},
     "output_type": "execute_result"
    }
   ],
   "source": [
    "# 4. Fit\n",
    "mygs2.fit(X_train_countvec, y_train)"
   ]
  },
  {
   "cell_type": "code",
   "execution_count": 207,
   "metadata": {},
   "outputs": [
    {
     "data": {
      "text/plain": [
       "Pipeline(steps=[('classifier', LogisticRegression(C=1))])"
      ]
     },
     "execution_count": 207,
     "metadata": {},
     "output_type": "execute_result"
    }
   ],
   "source": [
    "mygs.best_estimator_"
   ]
  },
  {
   "cell_type": "code",
   "execution_count": 208,
   "metadata": {
    "scrolled": true
   },
   "outputs": [
    {
     "data": {
      "text/plain": [
       "0.7654545454545455"
      ]
     },
     "execution_count": 208,
     "metadata": {},
     "output_type": "execute_result"
    }
   ],
   "source": [
    "# 5. Score\n",
    "mygs.score(X_test_countvec, y_test)"
   ]
  },
  {
   "cell_type": "code",
   "execution_count": 24,
   "metadata": {},
   "outputs": [
    {
     "name": "stdout",
     "output_type": "stream",
     "text": [
      "Authentication OK\n"
     ]
    }
   ],
   "source": [
    "# Authenticate to Twitter\n",
    "auth = tweepy.OAuthHandler(\"OENDOLh2rnnwsUKOO6XO1WED9\", \n",
    "    \"opxleI1SC7wrCLDZpQXWpoDhL2ntNXvv7fSx09OiQnh9rqWStd\")\n",
    "auth.set_access_token(\"1292145515925307393-YT3Bg347EwCst3XgRS43EtLM7i9B8l\", \n",
    "    \"VvX4ikUwSukdZzUMyMCYa4tUM4He4craOxZXDAb5BtSDK\")\n",
    "\n",
    "api = tweepy.API(auth)\n",
    "\n",
    "try:\n",
    "    api.verify_credentials()\n",
    "    print(\"Authentication OK\")\n",
    "except:\n",
    "    print(\"Error during authentication\")"
   ]
  },
  {
   "cell_type": "code",
   "execution_count": 25,
   "metadata": {},
   "outputs": [],
   "source": [
    "# Setting notifier for hitting the wait limit\n",
    "api = tweepy.API(auth, wait_on_rate_limit=True,\n",
    "    wait_on_rate_limit_notify=True)"
   ]
  },
  {
   "cell_type": "code",
   "execution_count": 334,
   "metadata": {},
   "outputs": [],
   "source": [
    "count = 500\n",
    "anguskingtweets = []\n",
    "\n",
    "tweets = tweepy.Cursor(api.user_timeline,id='SenAngusKing', include_rts = True, tweet_mode = 'extended').items(count)\n",
    "tweets_list2 = [[tweet.full_text] for tweet in tweets]\n",
    "anguskingtweets.extend(tweets_list2)"
   ]
  },
  {
   "cell_type": "code",
   "execution_count": 335,
   "metadata": {},
   "outputs": [],
   "source": [
    "anguskingtweets = pd.DataFrame(anguskingtweets, dtype='string')"
   ]
  },
  {
   "cell_type": "code",
   "execution_count": 336,
   "metadata": {},
   "outputs": [],
   "source": [
    "anguskingtweets = anguskingtweets.astype('string')"
   ]
  },
  {
   "cell_type": "code",
   "execution_count": 337,
   "metadata": {},
   "outputs": [
    {
     "data": {
      "text/html": [
       "<div>\n",
       "<style scoped>\n",
       "    .dataframe tbody tr th:only-of-type {\n",
       "        vertical-align: middle;\n",
       "    }\n",
       "\n",
       "    .dataframe tbody tr th {\n",
       "        vertical-align: top;\n",
       "    }\n",
       "\n",
       "    .dataframe thead th {\n",
       "        text-align: right;\n",
       "    }\n",
       "</style>\n",
       "<table border=\"1\" class=\"dataframe\">\n",
       "  <thead>\n",
       "    <tr style=\"text-align: right;\">\n",
       "      <th></th>\n",
       "      <th>0</th>\n",
       "    </tr>\n",
       "  </thead>\n",
       "  <tbody>\n",
       "    <tr>\n",
       "      <th>0</th>\n",
       "      <td>For decades @PortlandChamber’s Eggs &amp;amp; Issues has convened for important conversations – and now, that tradition continues virtually! Grateful to speak to hundreds of Maine people about election security, economic development, and how we can support each other during the pandemic. https://t.co/RB9pS7qYNR</td>\n",
       "    </tr>\n",
       "    <tr>\n",
       "      <th>1</th>\n",
       "      <td>Maine’s artists drive significant economic activity, inspire us – and employ thousands of Maine people in communities across our state. During yesterday’s call with @MaineArts, I emphasized my belief that Congress should provide aid to this hard-hit industry. https://t.co/7FMmqGZM8O</td>\n",
       "    </tr>\n",
       "    <tr>\n",
       "      <th>2</th>\n",
       "      <td>On the anniversary of #September11, we must come together to honor those who were lost on that terrible day, and to recommit ourselves to the values that shone through in the aftermath of these vicious attacks. https://t.co/TcXUEHu2iA</td>\n",
       "    </tr>\n",
       "    <tr>\n",
       "      <th>3</th>\n",
       "      <td>I’ll be joining @JohnBerman on @NewDay at ~7:15 — hope you can tune in.</td>\n",
       "    </tr>\n",
       "    <tr>\n",
       "      <th>4</th>\n",
       "      <td>Before passing the CARES Act, the Senate voted down Senator McConnell’s partisan proposal – twice – leading to negotiations that secured vital funding for Maine and the nation. \n",
       "\n",
       "Today's vote should do the same; the American people are counting on it. My full statement: https://t.co/B0P76RmlrA</td>\n",
       "    </tr>\n",
       "    <tr>\n",
       "      <th>...</th>\n",
       "      <td>...</td>\n",
       "    </tr>\n",
       "    <tr>\n",
       "      <th>495</th>\n",
       "      <td>Good News for Maine: @YorkCountyCAP (Sanford area) and Downeast Community Partners (Ellsworth area) have received a total of $2.5m towards Head Start programs – a fun, safe way for Maine kids to learn and grow while their parents attend school or work. https://t.co/9keC0g4cqE</td>\n",
       "    </tr>\n",
       "    <tr>\n",
       "      <th>496</th>\n",
       "      <td>Don’t wait! The ACA deadline is next Sunday (12/15) which leaves only 7 days to review your options and find the best healthcare plan for you and your family. To sign up, Maine people can call (800) 965-7476 or visit https://t.co/qn8HPHH2iH</td>\n",
       "    </tr>\n",
       "    <tr>\n",
       "      <th>497</th>\n",
       "      <td>Today, we remember the horror that shook our country 78 years ago: the attack on Pearl Harbor. That grave day claimed the lives of over 2,000, wounded many others, and plunged the U.S. into WWII. We memorialize their patriotism, bravery, and sense of duty in the face of peril.</td>\n",
       "    </tr>\n",
       "    <tr>\n",
       "      <th>498</th>\n",
       "      <td>Extending a big thanks to Sen. Alexander, and the folks at @ORNL for welcoming me to their lab! The innovations underway here, in collaboration with @UMaine and @ENERGY, are helping to revolutionize Maine’s forest economy. Great news for all who rely on this historic industry. https://t.co/ajWKf51hbJ</td>\n",
       "    </tr>\n",
       "    <tr>\n",
       "      <th>499</th>\n",
       "      <td>Today, I continued that push and led a bipartisan effort in urging @FERC to protect our country’s energy infrastructure from Huawei technology. READ MORE: https://t.co/hzeWjUrieA</td>\n",
       "    </tr>\n",
       "  </tbody>\n",
       "</table>\n",
       "<p>500 rows × 1 columns</p>\n",
       "</div>"
      ],
      "text/plain": [
       "                                                                                                                                                                                                                                                                                                                        0\n",
       "0    For decades @PortlandChamber’s Eggs &amp; Issues has convened for important conversations – and now, that tradition continues virtually! Grateful to speak to hundreds of Maine people about election security, economic development, and how we can support each other during the pandemic. https://t.co/RB9pS7qYNR\n",
       "1                             Maine’s artists drive significant economic activity, inspire us – and employ thousands of Maine people in communities across our state. During yesterday’s call with @MaineArts, I emphasized my belief that Congress should provide aid to this hard-hit industry. https://t.co/7FMmqGZM8O\n",
       "2                                                                              On the anniversary of #September11, we must come together to honor those who were lost on that terrible day, and to recommit ourselves to the values that shone through in the aftermath of these vicious attacks. https://t.co/TcXUEHu2iA\n",
       "3                                                                                                                                                                                                                                                 I’ll be joining @JohnBerman on @NewDay at ~7:15 — hope you can tune in.\n",
       "4                  Before passing the CARES Act, the Senate voted down Senator McConnell’s partisan proposal – twice – leading to negotiations that secured vital funding for Maine and the nation. \n",
       "\n",
       "Today's vote should do the same; the American people are counting on it. My full statement: https://t.co/B0P76RmlrA\n",
       "..                                                                                                                                                                                                                                                                                                                    ...\n",
       "495                                  Good News for Maine: @YorkCountyCAP (Sanford area) and Downeast Community Partners (Ellsworth area) have received a total of $2.5m towards Head Start programs – a fun, safe way for Maine kids to learn and grow while their parents attend school or work. https://t.co/9keC0g4cqE\n",
       "496                                                                      Don’t wait! The ACA deadline is next Sunday (12/15) which leaves only 7 days to review your options and find the best healthcare plan for you and your family. To sign up, Maine people can call (800) 965-7476 or visit https://t.co/qn8HPHH2iH\n",
       "497                                 Today, we remember the horror that shook our country 78 years ago: the attack on Pearl Harbor. That grave day claimed the lives of over 2,000, wounded many others, and plunged the U.S. into WWII. We memorialize their patriotism, bravery, and sense of duty in the face of peril.\n",
       "498         Extending a big thanks to Sen. Alexander, and the folks at @ORNL for welcoming me to their lab! The innovations underway here, in collaboration with @UMaine and @ENERGY, are helping to revolutionize Maine’s forest economy. Great news for all who rely on this historic industry. https://t.co/ajWKf51hbJ\n",
       "499                                                                                                                                    Today, I continued that push and led a bipartisan effort in urging @FERC to protect our country’s energy infrastructure from Huawei technology. READ MORE: https://t.co/hzeWjUrieA\n",
       "\n",
       "[500 rows x 1 columns]"
      ]
     },
     "execution_count": 337,
     "metadata": {},
     "output_type": "execute_result"
    }
   ],
   "source": [
    "anguskingtweets"
   ]
  },
  {
   "cell_type": "code",
   "execution_count": 338,
   "metadata": {},
   "outputs": [],
   "source": [
    "anguslist1 = []\n",
    "for text in anguskingtweets[0]:\n",
    "    souper2 = BeautifulSoup(text, \"lxml\")\n",
    "    anguslist1.append(souper2.get_text())"
   ]
  },
  {
   "cell_type": "code",
   "execution_count": null,
   "metadata": {},
   "outputs": [],
   "source": [
    "p.set_options(p.OPT.URL, p.OPT.EMOJI, p.OPT.MENTION, p.OPT.SMILEY, p.OPT.NUMBER)"
   ]
  },
  {
   "cell_type": "code",
   "execution_count": 339,
   "metadata": {},
   "outputs": [],
   "source": [
    "anguslist2 =[]\n",
    "for text in anguslist1:\n",
    "    anguslist2.append(p.clean(text))"
   ]
  },
  {
   "cell_type": "code",
   "execution_count": 340,
   "metadata": {},
   "outputs": [],
   "source": [
    "anguslist3 =[]\n",
    "for text in anguslist2:\n",
    "    anguslist3.append(re.sub(r\"^RT.*:\",\"\",text))"
   ]
  },
  {
   "cell_type": "code",
   "execution_count": 341,
   "metadata": {},
   "outputs": [],
   "source": [
    "angus_test_tfidf = tfidf.transform(anguslist3)"
   ]
  },
  {
   "cell_type": "code",
   "execution_count": 342,
   "metadata": {},
   "outputs": [],
   "source": [
    "angus = my_best_model.predict_proba(angus_test_tfidf)"
   ]
  },
  {
   "cell_type": "code",
   "execution_count": 343,
   "metadata": {},
   "outputs": [],
   "source": [
    "angusdf = pd.DataFrame(angus)"
   ]
  },
  {
   "cell_type": "code",
   "execution_count": 345,
   "metadata": {},
   "outputs": [
    {
     "data": {
      "text/html": [
       "<div>\n",
       "<style scoped>\n",
       "    .dataframe tbody tr th:only-of-type {\n",
       "        vertical-align: middle;\n",
       "    }\n",
       "\n",
       "    .dataframe tbody tr th {\n",
       "        vertical-align: top;\n",
       "    }\n",
       "\n",
       "    .dataframe thead th {\n",
       "        text-align: right;\n",
       "    }\n",
       "</style>\n",
       "<table border=\"1\" class=\"dataframe\">\n",
       "  <thead>\n",
       "    <tr style=\"text-align: right;\">\n",
       "      <th></th>\n",
       "      <th>0</th>\n",
       "      <th>1</th>\n",
       "    </tr>\n",
       "  </thead>\n",
       "  <tbody>\n",
       "    <tr>\n",
       "      <th>0</th>\n",
       "      <td>0.849156</td>\n",
       "      <td>0.150844</td>\n",
       "    </tr>\n",
       "    <tr>\n",
       "      <th>1</th>\n",
       "      <td>0.757710</td>\n",
       "      <td>0.242290</td>\n",
       "    </tr>\n",
       "    <tr>\n",
       "      <th>2</th>\n",
       "      <td>0.798679</td>\n",
       "      <td>0.201321</td>\n",
       "    </tr>\n",
       "    <tr>\n",
       "      <th>3</th>\n",
       "      <td>0.589169</td>\n",
       "      <td>0.410831</td>\n",
       "    </tr>\n",
       "    <tr>\n",
       "      <th>4</th>\n",
       "      <td>0.763283</td>\n",
       "      <td>0.236717</td>\n",
       "    </tr>\n",
       "    <tr>\n",
       "      <th>...</th>\n",
       "      <td>...</td>\n",
       "      <td>...</td>\n",
       "    </tr>\n",
       "    <tr>\n",
       "      <th>495</th>\n",
       "      <td>0.400304</td>\n",
       "      <td>0.599696</td>\n",
       "    </tr>\n",
       "    <tr>\n",
       "      <th>496</th>\n",
       "      <td>0.713842</td>\n",
       "      <td>0.286158</td>\n",
       "    </tr>\n",
       "    <tr>\n",
       "      <th>497</th>\n",
       "      <td>0.680503</td>\n",
       "      <td>0.319497</td>\n",
       "    </tr>\n",
       "    <tr>\n",
       "      <th>498</th>\n",
       "      <td>0.328771</td>\n",
       "      <td>0.671229</td>\n",
       "    </tr>\n",
       "    <tr>\n",
       "      <th>499</th>\n",
       "      <td>0.519857</td>\n",
       "      <td>0.480143</td>\n",
       "    </tr>\n",
       "  </tbody>\n",
       "</table>\n",
       "<p>500 rows × 2 columns</p>\n",
       "</div>"
      ],
      "text/plain": [
       "            0         1\n",
       "0    0.849156  0.150844\n",
       "1    0.757710  0.242290\n",
       "2    0.798679  0.201321\n",
       "3    0.589169  0.410831\n",
       "4    0.763283  0.236717\n",
       "..        ...       ...\n",
       "495  0.400304  0.599696\n",
       "496  0.713842  0.286158\n",
       "497  0.680503  0.319497\n",
       "498  0.328771  0.671229\n",
       "499  0.519857  0.480143\n",
       "\n",
       "[500 rows x 2 columns]"
      ]
     },
     "execution_count": 345,
     "metadata": {},
     "output_type": "execute_result"
    }
   ],
   "source": [
    "angusdf"
   ]
  },
  {
   "cell_type": "code",
   "execution_count": 346,
   "metadata": {},
   "outputs": [
    {
     "data": {
      "text/plain": [
       "0.5995061041418653"
      ]
     },
     "execution_count": 346,
     "metadata": {},
     "output_type": "execute_result"
    }
   ],
   "source": [
    "angusdf[0].mean()"
   ]
  },
  {
   "cell_type": "code",
   "execution_count": 347,
   "metadata": {},
   "outputs": [
    {
     "data": {
      "text/plain": [
       "0.4004938958581348"
      ]
     },
     "execution_count": 347,
     "metadata": {},
     "output_type": "execute_result"
    }
   ],
   "source": [
    "angusdf[1].mean()"
   ]
  },
  {
   "cell_type": "markdown",
   "metadata": {},
   "source": [
    "The above method, although initially seemed correct was definetely the wrong way to go about it. Lets instead get a prediction for each tweet and then get a value count of how many tweets get classified as either republican or democratic."
   ]
  },
  {
   "cell_type": "code",
   "execution_count": 348,
   "metadata": {},
   "outputs": [],
   "source": [
    "testpredict2 = []\n",
    "for x in range(len(angusdf[0])):\n",
    "    testpredict2.append(angusdf.iloc[x,:].idxmax(axis=1))\n",
    "    "
   ]
  },
  {
   "cell_type": "code",
   "execution_count": 349,
   "metadata": {},
   "outputs": [],
   "source": [
    "anguspredic = pd.DataFrame(testpredict2)"
   ]
  },
  {
   "cell_type": "code",
   "execution_count": 350,
   "metadata": {},
   "outputs": [
    {
     "data": {
      "text/plain": [
       "0    355\n",
       "1    145\n",
       "Name: 0, dtype: int64"
      ]
     },
     "execution_count": 350,
     "metadata": {},
     "output_type": "execute_result"
    }
   ],
   "source": [
    "anguspredic[0].value_counts()"
   ]
  },
  {
   "cell_type": "code",
   "execution_count": 351,
   "metadata": {},
   "outputs": [
    {
     "data": {
      "text/plain": [
       "0.71"
      ]
     },
     "execution_count": 351,
     "metadata": {},
     "output_type": "execute_result"
    }
   ],
   "source": [
    "355/500"
   ]
  },
  {
   "cell_type": "markdown",
   "metadata": {},
   "source": [
    "Angus King has 71% of his tweets classify as democratic. This makes sense because although he is an independant, he caucuses with the democratic party for committee assignment purposes. I expect any actual Democrat to have more tweets than Angus King that classify as so."
   ]
  },
  {
   "cell_type": "code",
   "execution_count": 79,
   "metadata": {},
   "outputs": [],
   "source": [
    "count = 500\n",
    "trumptweets = []\n",
    "\n",
    "tweets = tweepy.Cursor(api.user_timeline,id='realDonaldTrump', include_rts = True, tweet_mode = 'extended').items(count)\n",
    "tweets_list2 = [[tweet.full_text] for tweet in tweets]\n",
    "trumptweets.extend(tweets_list2)"
   ]
  },
  {
   "cell_type": "code",
   "execution_count": 80,
   "metadata": {},
   "outputs": [],
   "source": [
    "trumptweets = pd.DataFrame(trumptweets, dtype='string')"
   ]
  },
  {
   "cell_type": "code",
   "execution_count": 81,
   "metadata": {},
   "outputs": [],
   "source": [
    "trumptweets = trumptweets.astype('string')"
   ]
  },
  {
   "cell_type": "code",
   "execution_count": 82,
   "metadata": {},
   "outputs": [
    {
     "data": {
      "text/html": [
       "<div>\n",
       "<style scoped>\n",
       "    .dataframe tbody tr th:only-of-type {\n",
       "        vertical-align: middle;\n",
       "    }\n",
       "\n",
       "    .dataframe tbody tr th {\n",
       "        vertical-align: top;\n",
       "    }\n",
       "\n",
       "    .dataframe thead th {\n",
       "        text-align: right;\n",
       "    }\n",
       "</style>\n",
       "<table border=\"1\" class=\"dataframe\">\n",
       "  <thead>\n",
       "    <tr style=\"text-align: right;\">\n",
       "      <th></th>\n",
       "      <th>0</th>\n",
       "    </tr>\n",
       "  </thead>\n",
       "  <tbody>\n",
       "    <tr>\n",
       "      <th>0</th>\n",
       "      <td>I want to defend &amp;amp; preserve our nation’s h...</td>\n",
       "    </tr>\n",
       "    <tr>\n",
       "      <th>1</th>\n",
       "      <td>Comey is a disaster who cheated and lied. How ...</td>\n",
       "    </tr>\n",
       "    <tr>\n",
       "      <th>2</th>\n",
       "      <td>Last night I did what the corrupt media has re...</td>\n",
       "    </tr>\n",
       "    <tr>\n",
       "      <th>3</th>\n",
       "      <td>Thank you Duluth, Minnesota! \n",
       "https://t.co/OY9...</td>\n",
       "    </tr>\n",
       "    <tr>\n",
       "      <th>4</th>\n",
       "      <td>RT @paulsperry_: all this memory loss and out-...</td>\n",
       "    </tr>\n",
       "    <tr>\n",
       "      <th>...</th>\n",
       "      <td>...</td>\n",
       "    </tr>\n",
       "    <tr>\n",
       "      <th>495</th>\n",
       "      <td>Michelle @FischbachMN7 is running for Congress...</td>\n",
       "    </tr>\n",
       "    <tr>\n",
       "      <th>496</th>\n",
       "      <td>Congressman @PeteStauber fights for the hard-w...</td>\n",
       "    </tr>\n",
       "    <tr>\n",
       "      <th>497</th>\n",
       "      <td>.@ScottTaylorVA is a fighter for Virginia, and...</td>\n",
       "    </tr>\n",
       "    <tr>\n",
       "      <th>498</th>\n",
       "      <td>Bob Good (@GoodForCongress) will be a terrific...</td>\n",
       "    </tr>\n",
       "    <tr>\n",
       "      <th>499</th>\n",
       "      <td>Nick Freitas (@NickForVA) will be an incredibl...</td>\n",
       "    </tr>\n",
       "  </tbody>\n",
       "</table>\n",
       "<p>500 rows × 1 columns</p>\n",
       "</div>"
      ],
      "text/plain": [
       "                                                     0\n",
       "0    I want to defend &amp; preserve our nation’s h...\n",
       "1    Comey is a disaster who cheated and lied. How ...\n",
       "2    Last night I did what the corrupt media has re...\n",
       "3    Thank you Duluth, Minnesota! \n",
       "https://t.co/OY9...\n",
       "4    RT @paulsperry_: all this memory loss and out-...\n",
       "..                                                 ...\n",
       "495  Michelle @FischbachMN7 is running for Congress...\n",
       "496  Congressman @PeteStauber fights for the hard-w...\n",
       "497  .@ScottTaylorVA is a fighter for Virginia, and...\n",
       "498  Bob Good (@GoodForCongress) will be a terrific...\n",
       "499  Nick Freitas (@NickForVA) will be an incredibl...\n",
       "\n",
       "[500 rows x 1 columns]"
      ]
     },
     "execution_count": 82,
     "metadata": {},
     "output_type": "execute_result"
    }
   ],
   "source": [
    "trumptweets"
   ]
  },
  {
   "cell_type": "code",
   "execution_count": 83,
   "metadata": {},
   "outputs": [],
   "source": [
    "trumplist1 = []\n",
    "for text in trumptweets[0]:\n",
    "    souper2 = BeautifulSoup(text, \"lxml\")\n",
    "    trumplist1.append(souper2.get_text())"
   ]
  },
  {
   "cell_type": "code",
   "execution_count": 85,
   "metadata": {},
   "outputs": [],
   "source": [
    "trumplist2 =[]\n",
    "for text in trumplist1:\n",
    "    trumplist2.append(p.clean(text))"
   ]
  },
  {
   "cell_type": "code",
   "execution_count": 86,
   "metadata": {},
   "outputs": [],
   "source": [
    "trumplist3 =[]\n",
    "for text in trumplist2:\n",
    "    trumplist3.append(re.sub(r\"^RT.*:\",\"\",text))"
   ]
  },
  {
   "cell_type": "code",
   "execution_count": 87,
   "metadata": {},
   "outputs": [],
   "source": [
    "trump_test_tfidf = tfidf.transform(trumplist3)"
   ]
  },
  {
   "cell_type": "code",
   "execution_count": 88,
   "metadata": {},
   "outputs": [],
   "source": [
    "trump = my_best_model.predict_proba(trump_test_tfidf)"
   ]
  },
  {
   "cell_type": "code",
   "execution_count": 89,
   "metadata": {},
   "outputs": [],
   "source": [
    "trumpdf = pd.DataFrame(trump)"
   ]
  },
  {
   "cell_type": "code",
   "execution_count": 90,
   "metadata": {},
   "outputs": [
    {
     "data": {
      "text/html": [
       "<div>\n",
       "<style scoped>\n",
       "    .dataframe tbody tr th:only-of-type {\n",
       "        vertical-align: middle;\n",
       "    }\n",
       "\n",
       "    .dataframe tbody tr th {\n",
       "        vertical-align: top;\n",
       "    }\n",
       "\n",
       "    .dataframe thead th {\n",
       "        text-align: right;\n",
       "    }\n",
       "</style>\n",
       "<table border=\"1\" class=\"dataframe\">\n",
       "  <thead>\n",
       "    <tr style=\"text-align: right;\">\n",
       "      <th></th>\n",
       "      <th>0</th>\n",
       "      <th>1</th>\n",
       "    </tr>\n",
       "  </thead>\n",
       "  <tbody>\n",
       "    <tr>\n",
       "      <th>0</th>\n",
       "      <td>0.050463</td>\n",
       "      <td>0.949537</td>\n",
       "    </tr>\n",
       "    <tr>\n",
       "      <th>1</th>\n",
       "      <td>0.180065</td>\n",
       "      <td>0.819935</td>\n",
       "    </tr>\n",
       "    <tr>\n",
       "      <th>2</th>\n",
       "      <td>0.475768</td>\n",
       "      <td>0.524232</td>\n",
       "    </tr>\n",
       "    <tr>\n",
       "      <th>3</th>\n",
       "      <td>0.368139</td>\n",
       "      <td>0.631861</td>\n",
       "    </tr>\n",
       "    <tr>\n",
       "      <th>4</th>\n",
       "      <td>0.329517</td>\n",
       "      <td>0.670483</td>\n",
       "    </tr>\n",
       "    <tr>\n",
       "      <th>...</th>\n",
       "      <td>...</td>\n",
       "      <td>...</td>\n",
       "    </tr>\n",
       "    <tr>\n",
       "      <th>495</th>\n",
       "      <td>0.245745</td>\n",
       "      <td>0.754255</td>\n",
       "    </tr>\n",
       "    <tr>\n",
       "      <th>496</th>\n",
       "      <td>0.441464</td>\n",
       "      <td>0.558536</td>\n",
       "    </tr>\n",
       "    <tr>\n",
       "      <th>497</th>\n",
       "      <td>0.265884</td>\n",
       "      <td>0.734116</td>\n",
       "    </tr>\n",
       "    <tr>\n",
       "      <th>498</th>\n",
       "      <td>0.199918</td>\n",
       "      <td>0.800082</td>\n",
       "    </tr>\n",
       "    <tr>\n",
       "      <th>499</th>\n",
       "      <td>0.275645</td>\n",
       "      <td>0.724355</td>\n",
       "    </tr>\n",
       "  </tbody>\n",
       "</table>\n",
       "<p>500 rows × 2 columns</p>\n",
       "</div>"
      ],
      "text/plain": [
       "            0         1\n",
       "0    0.050463  0.949537\n",
       "1    0.180065  0.819935\n",
       "2    0.475768  0.524232\n",
       "3    0.368139  0.631861\n",
       "4    0.329517  0.670483\n",
       "..        ...       ...\n",
       "495  0.245745  0.754255\n",
       "496  0.441464  0.558536\n",
       "497  0.265884  0.734116\n",
       "498  0.199918  0.800082\n",
       "499  0.275645  0.724355\n",
       "\n",
       "[500 rows x 2 columns]"
      ]
     },
     "execution_count": 90,
     "metadata": {},
     "output_type": "execute_result"
    }
   ],
   "source": [
    "trumpdf"
   ]
  },
  {
   "cell_type": "code",
   "execution_count": 91,
   "metadata": {},
   "outputs": [],
   "source": [
    "testpredict = []\n",
    "for x in range(len(trumpdf[0])):\n",
    "    testpredict.append(trumpdf.iloc[x,:].idxmax(axis=1))\n",
    "    "
   ]
  },
  {
   "cell_type": "code",
   "execution_count": 92,
   "metadata": {},
   "outputs": [],
   "source": [
    "trumppredic = pd.DataFrame(testpredict)"
   ]
  },
  {
   "cell_type": "code",
   "execution_count": 93,
   "metadata": {},
   "outputs": [
    {
     "data": {
      "text/plain": [
       "1    413\n",
       "0     87\n",
       "Name: 0, dtype: int64"
      ]
     },
     "execution_count": 93,
     "metadata": {},
     "output_type": "execute_result"
    }
   ],
   "source": [
    "trumppredic[0].value_counts()"
   ]
  },
  {
   "cell_type": "code",
   "execution_count": 94,
   "metadata": {
    "scrolled": false
   },
   "outputs": [
    {
     "data": {
      "text/plain": [
       "0.174"
      ]
     },
     "execution_count": 94,
     "metadata": {},
     "output_type": "execute_result"
    }
   ],
   "source": [
    "87/500"
   ]
  },
  {
   "cell_type": "code",
   "execution_count": 95,
   "metadata": {},
   "outputs": [
    {
     "data": {
      "text/plain": [
       "0.826"
      ]
     },
     "execution_count": 95,
     "metadata": {},
     "output_type": "execute_result"
    }
   ],
   "source": [
    "413/500"
   ]
  },
  {
   "cell_type": "markdown",
   "metadata": {},
   "source": [
    "82.6% of Donald Trumps tweets classify as Republican!"
   ]
  },
  {
   "cell_type": "code",
   "execution_count": 112,
   "metadata": {},
   "outputs": [],
   "source": [
    "count = 500\n",
    "mrtweets = []\n",
    "\n",
    "tweets = tweepy.Cursor(api.user_timeline,id='MittRomney', include_rts = True, tweet_mode = 'extended').items(count)\n",
    "tweets_list2 = [[tweet.full_text] for tweet in tweets]\n",
    "mrtweets.extend(tweets_list2)"
   ]
  },
  {
   "cell_type": "code",
   "execution_count": 113,
   "metadata": {},
   "outputs": [],
   "source": [
    "mrtweets = pd.DataFrame(mrtweets, dtype='string')"
   ]
  },
  {
   "cell_type": "code",
   "execution_count": 114,
   "metadata": {},
   "outputs": [],
   "source": [
    "mrtweets = mrtweets.astype('string')"
   ]
  },
  {
   "cell_type": "code",
   "execution_count": 115,
   "metadata": {},
   "outputs": [
    {
     "data": {
      "text/html": [
       "<div>\n",
       "<style scoped>\n",
       "    .dataframe tbody tr th:only-of-type {\n",
       "        vertical-align: middle;\n",
       "    }\n",
       "\n",
       "    .dataframe tbody tr th {\n",
       "        vertical-align: top;\n",
       "    }\n",
       "\n",
       "    .dataframe thead th {\n",
       "        text-align: right;\n",
       "    }\n",
       "</style>\n",
       "<table border=\"1\" class=\"dataframe\">\n",
       "  <thead>\n",
       "    <tr style=\"text-align: right;\">\n",
       "      <th></th>\n",
       "      <th>0</th>\n",
       "    </tr>\n",
       "  </thead>\n",
       "  <tbody>\n",
       "    <tr>\n",
       "      <th>0</th>\n",
       "      <td>They got my casual Saturday night look just ri...</td>\n",
       "    </tr>\n",
       "    <tr>\n",
       "      <th>1</th>\n",
       "      <td>Happy to hear all is well, Ron! Ann and I will...</td>\n",
       "    </tr>\n",
       "    <tr>\n",
       "      <th>2</th>\n",
       "      <td>Fundamental to democracy is the peaceful trans...</td>\n",
       "    </tr>\n",
       "    <tr>\n",
       "      <th>3</th>\n",
       "      <td>My statement on the passing of Ruth Bader Gins...</td>\n",
       "    </tr>\n",
       "    <tr>\n",
       "      <th>4</th>\n",
       "      <td>Never forget the heartbreak of love and lives ...</td>\n",
       "    </tr>\n",
       "    <tr>\n",
       "      <th>...</th>\n",
       "      <td>...</td>\n",
       "    </tr>\n",
       "    <tr>\n",
       "      <th>495</th>\n",
       "      <td>The murder of Boris Nemtsov reminds us that ty...</td>\n",
       "    </tr>\n",
       "    <tr>\n",
       "      <th>496</th>\n",
       "      <td>My heart goes out to @AuditorSchweich's family...</td>\n",
       "    </tr>\n",
       "    <tr>\n",
       "      <th>497</th>\n",
       "      <td>Love you too, sweetie. RT @AnnDRomney One of m...</td>\n",
       "    </tr>\n",
       "    <tr>\n",
       "      <th>498</th>\n",
       "      <td>With the angels, we weep today for Kayla Muell...</td>\n",
       "    </tr>\n",
       "    <tr>\n",
       "      <th>499</th>\n",
       "      <td>John Whitehead was one of the brave. From the ...</td>\n",
       "    </tr>\n",
       "  </tbody>\n",
       "</table>\n",
       "<p>500 rows × 1 columns</p>\n",
       "</div>"
      ],
      "text/plain": [
       "                                                     0\n",
       "0    They got my casual Saturday night look just ri...\n",
       "1    Happy to hear all is well, Ron! Ann and I will...\n",
       "2    Fundamental to democracy is the peaceful trans...\n",
       "3    My statement on the passing of Ruth Bader Gins...\n",
       "4    Never forget the heartbreak of love and lives ...\n",
       "..                                                 ...\n",
       "495  The murder of Boris Nemtsov reminds us that ty...\n",
       "496  My heart goes out to @AuditorSchweich's family...\n",
       "497  Love you too, sweetie. RT @AnnDRomney One of m...\n",
       "498  With the angels, we weep today for Kayla Muell...\n",
       "499  John Whitehead was one of the brave. From the ...\n",
       "\n",
       "[500 rows x 1 columns]"
      ]
     },
     "execution_count": 115,
     "metadata": {},
     "output_type": "execute_result"
    }
   ],
   "source": [
    "mrtweets"
   ]
  },
  {
   "cell_type": "code",
   "execution_count": 116,
   "metadata": {},
   "outputs": [],
   "source": [
    "mrlist1 = []\n",
    "for text in mrtweets[0]:\n",
    "    souper2 = BeautifulSoup(text, \"lxml\")\n",
    "    mrlist1.append(souper2.get_text())"
   ]
  },
  {
   "cell_type": "code",
   "execution_count": 117,
   "metadata": {},
   "outputs": [],
   "source": [
    "mrlist2 =[]\n",
    "for text in mrlist1:\n",
    "    mrlist2.append(p.clean(text))"
   ]
  },
  {
   "cell_type": "code",
   "execution_count": 118,
   "metadata": {},
   "outputs": [],
   "source": [
    "mrlist3 =[]\n",
    "for text in mrlist2:\n",
    "    mrlist3.append(re.sub(r\"^RT.*:\",\"\",text))"
   ]
  },
  {
   "cell_type": "code",
   "execution_count": 119,
   "metadata": {},
   "outputs": [],
   "source": [
    "mr_test_tfidf = tfidf.transform(mrlist3)"
   ]
  },
  {
   "cell_type": "code",
   "execution_count": 120,
   "metadata": {},
   "outputs": [],
   "source": [
    "mr = my_best_model.predict_proba(mr_test_tfidf)"
   ]
  },
  {
   "cell_type": "code",
   "execution_count": 121,
   "metadata": {},
   "outputs": [],
   "source": [
    "mrdf = pd.DataFrame(mr)"
   ]
  },
  {
   "cell_type": "code",
   "execution_count": 122,
   "metadata": {
    "scrolled": true
   },
   "outputs": [
    {
     "data": {
      "text/html": [
       "<div>\n",
       "<style scoped>\n",
       "    .dataframe tbody tr th:only-of-type {\n",
       "        vertical-align: middle;\n",
       "    }\n",
       "\n",
       "    .dataframe tbody tr th {\n",
       "        vertical-align: top;\n",
       "    }\n",
       "\n",
       "    .dataframe thead th {\n",
       "        text-align: right;\n",
       "    }\n",
       "</style>\n",
       "<table border=\"1\" class=\"dataframe\">\n",
       "  <thead>\n",
       "    <tr style=\"text-align: right;\">\n",
       "      <th></th>\n",
       "      <th>0</th>\n",
       "      <th>1</th>\n",
       "    </tr>\n",
       "  </thead>\n",
       "  <tbody>\n",
       "    <tr>\n",
       "      <th>0</th>\n",
       "      <td>0.827318</td>\n",
       "      <td>0.172682</td>\n",
       "    </tr>\n",
       "    <tr>\n",
       "      <th>1</th>\n",
       "      <td>0.259007</td>\n",
       "      <td>0.740993</td>\n",
       "    </tr>\n",
       "    <tr>\n",
       "      <th>2</th>\n",
       "      <td>0.458034</td>\n",
       "      <td>0.541966</td>\n",
       "    </tr>\n",
       "    <tr>\n",
       "      <th>3</th>\n",
       "      <td>0.580198</td>\n",
       "      <td>0.419802</td>\n",
       "    </tr>\n",
       "    <tr>\n",
       "      <th>4</th>\n",
       "      <td>0.744134</td>\n",
       "      <td>0.255866</td>\n",
       "    </tr>\n",
       "    <tr>\n",
       "      <th>...</th>\n",
       "      <td>...</td>\n",
       "      <td>...</td>\n",
       "    </tr>\n",
       "    <tr>\n",
       "      <th>495</th>\n",
       "      <td>0.358638</td>\n",
       "      <td>0.641362</td>\n",
       "    </tr>\n",
       "    <tr>\n",
       "      <th>496</th>\n",
       "      <td>0.604397</td>\n",
       "      <td>0.395603</td>\n",
       "    </tr>\n",
       "    <tr>\n",
       "      <th>497</th>\n",
       "      <td>0.590624</td>\n",
       "      <td>0.409376</td>\n",
       "    </tr>\n",
       "    <tr>\n",
       "      <th>498</th>\n",
       "      <td>0.234946</td>\n",
       "      <td>0.765054</td>\n",
       "    </tr>\n",
       "    <tr>\n",
       "      <th>499</th>\n",
       "      <td>0.530343</td>\n",
       "      <td>0.469657</td>\n",
       "    </tr>\n",
       "  </tbody>\n",
       "</table>\n",
       "<p>500 rows × 2 columns</p>\n",
       "</div>"
      ],
      "text/plain": [
       "            0         1\n",
       "0    0.827318  0.172682\n",
       "1    0.259007  0.740993\n",
       "2    0.458034  0.541966\n",
       "3    0.580198  0.419802\n",
       "4    0.744134  0.255866\n",
       "..        ...       ...\n",
       "495  0.358638  0.641362\n",
       "496  0.604397  0.395603\n",
       "497  0.590624  0.409376\n",
       "498  0.234946  0.765054\n",
       "499  0.530343  0.469657\n",
       "\n",
       "[500 rows x 2 columns]"
      ]
     },
     "execution_count": 122,
     "metadata": {},
     "output_type": "execute_result"
    }
   ],
   "source": [
    "mrdf"
   ]
  },
  {
   "cell_type": "code",
   "execution_count": 123,
   "metadata": {},
   "outputs": [],
   "source": [
    "testpredict3 = []\n",
    "for x in range(len(mrdf[0])):\n",
    "    testpredict3.append(mrdf.iloc[x,:].idxmax(axis=1))\n",
    "    "
   ]
  },
  {
   "cell_type": "code",
   "execution_count": 124,
   "metadata": {},
   "outputs": [],
   "source": [
    "mrpredic = pd.DataFrame(testpredict3)"
   ]
  },
  {
   "cell_type": "code",
   "execution_count": 125,
   "metadata": {},
   "outputs": [
    {
     "data": {
      "text/plain": [
       "1    286\n",
       "0    214\n",
       "Name: 0, dtype: int64"
      ]
     },
     "execution_count": 125,
     "metadata": {},
     "output_type": "execute_result"
    }
   ],
   "source": [
    "mrpredic[0].value_counts()"
   ]
  },
  {
   "cell_type": "code",
   "execution_count": 126,
   "metadata": {
    "scrolled": false
   },
   "outputs": [
    {
     "data": {
      "text/plain": [
       "0.572"
      ]
     },
     "execution_count": 126,
     "metadata": {},
     "output_type": "execute_result"
    }
   ],
   "source": [
    "286/500"
   ]
  },
  {
   "cell_type": "code",
   "execution_count": null,
   "metadata": {},
   "outputs": [],
   "source": []
  },
  {
   "cell_type": "code",
   "execution_count": 107,
   "metadata": {},
   "outputs": [],
   "source": [
    "count = 500\n",
    "botweets = []\n",
    "\n",
    "tweets = tweepy.Cursor(api.user_timeline,id='BarackObama', include_rts = True, tweet_mode = 'extended').items(count)\n",
    "tweets_list2 = [[tweet.full_text] for tweet in tweets]\n",
    "botweets.extend(tweets_list2)"
   ]
  },
  {
   "cell_type": "code",
   "execution_count": 353,
   "metadata": {},
   "outputs": [],
   "source": [
    "botweets = pd.DataFrame(botweets, dtype='string')"
   ]
  },
  {
   "cell_type": "code",
   "execution_count": 354,
   "metadata": {},
   "outputs": [],
   "source": [
    "botweets = botweets.astype('string')"
   ]
  },
  {
   "cell_type": "code",
   "execution_count": 355,
   "metadata": {},
   "outputs": [
    {
     "data": {
      "text/html": [
       "<div>\n",
       "<style scoped>\n",
       "    .dataframe tbody tr th:only-of-type {\n",
       "        vertical-align: middle;\n",
       "    }\n",
       "\n",
       "    .dataframe tbody tr th {\n",
       "        vertical-align: top;\n",
       "    }\n",
       "\n",
       "    .dataframe thead th {\n",
       "        text-align: right;\n",
       "    }\n",
       "</style>\n",
       "<table border=\"1\" class=\"dataframe\">\n",
       "  <thead>\n",
       "    <tr style=\"text-align: right;\">\n",
       "      <th></th>\n",
       "      <th>0</th>\n",
       "    </tr>\n",
       "  </thead>\n",
       "  <tbody>\n",
       "    <tr>\n",
       "      <th>0</th>\n",
       "      <td>Today we remember the lives we lost on 9/11. Even the smallest act of service is a way to honor them. And just like Jay Winuk, we can honor their memories through service. https://t.co/BdKDozK5t0 https://t.co/Jc4vg4Dqoh</td>\n",
       "    </tr>\n",
       "    <tr>\n",
       "      <th>1</th>\n",
       "      <td>The fires across the West Coast are just the latest examples of the very real ways our changing climate is changing our communities. Protecting our planet is on the ballot. Vote like your life depends on it—because it does. https://t.co/gKGegXWxQu</td>\n",
       "    </tr>\n",
       "    <tr>\n",
       "      <th>2</th>\n",
       "      <td>Great to catch up with our next Vice President, @KamalaHarris. I wanted to make sure to share a few tips about serving alongside our friend @JoeBiden. https://t.co/ncidvmylch</td>\n",
       "    </tr>\n",
       "    <tr>\n",
       "      <th>3</th>\n",
       "      <td>RT @JoeBiden: Today, we honor the generations of union workers who fought for the rights, power, wages, and benefits that built and sustain…</td>\n",
       "    </tr>\n",
       "    <tr>\n",
       "      <th>4</th>\n",
       "      <td>This Labor Day, let’s thank all those who've kept our country going this year—nurses, teachers, delivery drivers, food service workers, and many more. We can honor them by building our system back even better—so that essential workers are treated like it, pandemic or not.</td>\n",
       "    </tr>\n",
       "    <tr>\n",
       "      <th>...</th>\n",
       "      <td>...</td>\n",
       "    </tr>\n",
       "    <tr>\n",
       "      <th>495</th>\n",
       "      <td>We remember everyone we lost on 9/11 and honor all who defend our country and our ideals. No act of terror will ever change who we are.</td>\n",
       "    </tr>\n",
       "    <tr>\n",
       "      <th>496</th>\n",
       "      <td>RT @GeorgeHWBush: Across the U.S., Americans have answered the call to help with hurricane recovery. Praying for all Floridians. #Irma http…</td>\n",
       "    </tr>\n",
       "    <tr>\n",
       "      <th>497</th>\n",
       "      <td>Proud of these McKinley Tech students—inspiring young minds that make me hopeful about our future. https://t.co/nqYC1mjjTB</td>\n",
       "    </tr>\n",
       "    <tr>\n",
       "      <th>498</th>\n",
       "      <td>Americans always answer the call. https://t.co/SV1jixOExu https://t.co/ktEvL6s89d</td>\n",
       "    </tr>\n",
       "    <tr>\n",
       "      <th>499</th>\n",
       "      <td>To target hopeful young strivers who grew up here is wrong, because they’ve done nothing wrong. My statement: https://t.co/TCxZdld7L4</td>\n",
       "    </tr>\n",
       "  </tbody>\n",
       "</table>\n",
       "<p>500 rows × 1 columns</p>\n",
       "</div>"
      ],
      "text/plain": [
       "                                                                                                                                                                                                                                                                                    0\n",
       "0                                                         Today we remember the lives we lost on 9/11. Even the smallest act of service is a way to honor them. And just like Jay Winuk, we can honor their memories through service. https://t.co/BdKDozK5t0 https://t.co/Jc4vg4Dqoh\n",
       "1                             The fires across the West Coast are just the latest examples of the very real ways our changing climate is changing our communities. Protecting our planet is on the ballot. Vote like your life depends on it—because it does. https://t.co/gKGegXWxQu\n",
       "2                                                                                                      Great to catch up with our next Vice President, @KamalaHarris. I wanted to make sure to share a few tips about serving alongside our friend @JoeBiden. https://t.co/ncidvmylch\n",
       "3                                                                                                                                        RT @JoeBiden: Today, we honor the generations of union workers who fought for the rights, power, wages, and benefits that built and sustain…\n",
       "4    This Labor Day, let’s thank all those who've kept our country going this year—nurses, teachers, delivery drivers, food service workers, and many more. We can honor them by building our system back even better—so that essential workers are treated like it, pandemic or not.\n",
       "..                                                                                                                                                                                                                                                                                ...\n",
       "495                                                                                                                                           We remember everyone we lost on 9/11 and honor all who defend our country and our ideals. No act of terror will ever change who we are.\n",
       "496                                                                                                                                      RT @GeorgeHWBush: Across the U.S., Americans have answered the call to help with hurricane recovery. Praying for all Floridians. #Irma http…\n",
       "497                                                                                                                                                        Proud of these McKinley Tech students—inspiring young minds that make me hopeful about our future. https://t.co/nqYC1mjjTB\n",
       "498                                                                                                                                                                                                 Americans always answer the call. https://t.co/SV1jixOExu https://t.co/ktEvL6s89d\n",
       "499                                                                                                                                             To target hopeful young strivers who grew up here is wrong, because they’ve done nothing wrong. My statement: https://t.co/TCxZdld7L4\n",
       "\n",
       "[500 rows x 1 columns]"
      ]
     },
     "execution_count": 355,
     "metadata": {},
     "output_type": "execute_result"
    }
   ],
   "source": [
    "botweets"
   ]
  },
  {
   "cell_type": "code",
   "execution_count": 356,
   "metadata": {},
   "outputs": [],
   "source": [
    "bolist1 = []\n",
    "for text in botweets[0]:\n",
    "    souper2 = BeautifulSoup(text, \"lxml\")\n",
    "    bolist1.append(souper2.get_text())"
   ]
  },
  {
   "cell_type": "code",
   "execution_count": 357,
   "metadata": {},
   "outputs": [],
   "source": [
    "bolist2 =[]\n",
    "for text in bolist1:\n",
    "    bolist2.append(p.clean(text))"
   ]
  },
  {
   "cell_type": "code",
   "execution_count": 358,
   "metadata": {},
   "outputs": [],
   "source": [
    "bolist3 =[]\n",
    "for text in bolist2:\n",
    "    bolist3.append(re.sub(r\"^RT.*:\",\"\",text))"
   ]
  },
  {
   "cell_type": "code",
   "execution_count": 359,
   "metadata": {},
   "outputs": [],
   "source": [
    "bo_test_tfidf = tfidf.transform(bolist3)"
   ]
  },
  {
   "cell_type": "code",
   "execution_count": 360,
   "metadata": {},
   "outputs": [],
   "source": [
    "bo = my_best_model.predict_proba(bo_test_tfidf)"
   ]
  },
  {
   "cell_type": "code",
   "execution_count": 361,
   "metadata": {},
   "outputs": [],
   "source": [
    "bodf = pd.DataFrame(bo)"
   ]
  },
  {
   "cell_type": "code",
   "execution_count": 362,
   "metadata": {},
   "outputs": [
    {
     "data": {
      "text/html": [
       "<div>\n",
       "<style scoped>\n",
       "    .dataframe tbody tr th:only-of-type {\n",
       "        vertical-align: middle;\n",
       "    }\n",
       "\n",
       "    .dataframe tbody tr th {\n",
       "        vertical-align: top;\n",
       "    }\n",
       "\n",
       "    .dataframe thead th {\n",
       "        text-align: right;\n",
       "    }\n",
       "</style>\n",
       "<table border=\"1\" class=\"dataframe\">\n",
       "  <thead>\n",
       "    <tr style=\"text-align: right;\">\n",
       "      <th></th>\n",
       "      <th>0</th>\n",
       "      <th>1</th>\n",
       "    </tr>\n",
       "  </thead>\n",
       "  <tbody>\n",
       "    <tr>\n",
       "      <th>0</th>\n",
       "      <td>0.738570</td>\n",
       "      <td>0.261430</td>\n",
       "    </tr>\n",
       "    <tr>\n",
       "      <th>1</th>\n",
       "      <td>0.782382</td>\n",
       "      <td>0.217618</td>\n",
       "    </tr>\n",
       "    <tr>\n",
       "      <th>2</th>\n",
       "      <td>0.656545</td>\n",
       "      <td>0.343455</td>\n",
       "    </tr>\n",
       "    <tr>\n",
       "      <th>3</th>\n",
       "      <td>0.881509</td>\n",
       "      <td>0.118491</td>\n",
       "    </tr>\n",
       "    <tr>\n",
       "      <th>4</th>\n",
       "      <td>0.909949</td>\n",
       "      <td>0.090051</td>\n",
       "    </tr>\n",
       "    <tr>\n",
       "      <th>...</th>\n",
       "      <td>...</td>\n",
       "      <td>...</td>\n",
       "    </tr>\n",
       "    <tr>\n",
       "      <th>495</th>\n",
       "      <td>0.827470</td>\n",
       "      <td>0.172530</td>\n",
       "    </tr>\n",
       "    <tr>\n",
       "      <th>496</th>\n",
       "      <td>0.247807</td>\n",
       "      <td>0.752193</td>\n",
       "    </tr>\n",
       "    <tr>\n",
       "      <th>497</th>\n",
       "      <td>0.559868</td>\n",
       "      <td>0.440132</td>\n",
       "    </tr>\n",
       "    <tr>\n",
       "      <th>498</th>\n",
       "      <td>0.627293</td>\n",
       "      <td>0.372707</td>\n",
       "    </tr>\n",
       "    <tr>\n",
       "      <th>499</th>\n",
       "      <td>0.597959</td>\n",
       "      <td>0.402041</td>\n",
       "    </tr>\n",
       "  </tbody>\n",
       "</table>\n",
       "<p>500 rows × 2 columns</p>\n",
       "</div>"
      ],
      "text/plain": [
       "            0         1\n",
       "0    0.738570  0.261430\n",
       "1    0.782382  0.217618\n",
       "2    0.656545  0.343455\n",
       "3    0.881509  0.118491\n",
       "4    0.909949  0.090051\n",
       "..        ...       ...\n",
       "495  0.827470  0.172530\n",
       "496  0.247807  0.752193\n",
       "497  0.559868  0.440132\n",
       "498  0.627293  0.372707\n",
       "499  0.597959  0.402041\n",
       "\n",
       "[500 rows x 2 columns]"
      ]
     },
     "execution_count": 362,
     "metadata": {},
     "output_type": "execute_result"
    }
   ],
   "source": [
    "bodf"
   ]
  },
  {
   "cell_type": "code",
   "execution_count": 363,
   "metadata": {},
   "outputs": [],
   "source": [
    "testpredict3 = []\n",
    "for x in range(len(bodf[0])):\n",
    "    testpredict3.append(bodf.iloc[x,:].idxmax(axis=1))\n",
    "    "
   ]
  },
  {
   "cell_type": "code",
   "execution_count": 364,
   "metadata": {},
   "outputs": [],
   "source": [
    "bopredic = pd.DataFrame(testpredict3)"
   ]
  },
  {
   "cell_type": "code",
   "execution_count": 365,
   "metadata": {},
   "outputs": [
    {
     "data": {
      "text/plain": [
       "0    388\n",
       "1    112\n",
       "Name: 0, dtype: int64"
      ]
     },
     "execution_count": 365,
     "metadata": {},
     "output_type": "execute_result"
    }
   ],
   "source": [
    "bopredic[0].value_counts()"
   ]
  },
  {
   "cell_type": "code",
   "execution_count": 366,
   "metadata": {
    "scrolled": false
   },
   "outputs": [
    {
     "data": {
      "text/plain": [
       "0.776"
      ]
     },
     "execution_count": 366,
     "metadata": {},
     "output_type": "execute_result"
    }
   ],
   "source": [
    "388/500"
   ]
  },
  {
   "cell_type": "markdown",
   "metadata": {},
   "source": [
    "Makes sense that Obama has more tweets than Angus King that classify as Democratic!"
   ]
  },
  {
   "cell_type": "code",
   "execution_count": 26,
   "metadata": {},
   "outputs": [],
   "source": [
    "count = 500\n",
    "qatweets = []\n",
    "\n",
    "tweets = tweepy.Cursor(api.user_timeline,id='QanonAnonymous', include_rts = True, tweet_mode = 'extended').items(count)\n",
    "tweets_list2 = [[tweet.full_text] for tweet in tweets]\n",
    "qatweets.extend(tweets_list2)"
   ]
  },
  {
   "cell_type": "code",
   "execution_count": 28,
   "metadata": {},
   "outputs": [],
   "source": [
    "qatweets = pd.DataFrame(qatweets, dtype='string')"
   ]
  },
  {
   "cell_type": "code",
   "execution_count": 29,
   "metadata": {},
   "outputs": [
    {
     "data": {
      "text/html": [
       "<div>\n",
       "<style scoped>\n",
       "    .dataframe tbody tr th:only-of-type {\n",
       "        vertical-align: middle;\n",
       "    }\n",
       "\n",
       "    .dataframe tbody tr th {\n",
       "        vertical-align: top;\n",
       "    }\n",
       "\n",
       "    .dataframe thead th {\n",
       "        text-align: right;\n",
       "    }\n",
       "</style>\n",
       "<table border=\"1\" class=\"dataframe\">\n",
       "  <thead>\n",
       "    <tr style=\"text-align: right;\">\n",
       "      <th></th>\n",
       "      <th>0</th>\n",
       "    </tr>\n",
       "  </thead>\n",
       "  <tbody>\n",
       "    <tr>\n",
       "      <th>0</th>\n",
       "      <td>@JordanUhl @rickyftw @mattg00d @tomfromstray @...</td>\n",
       "    </tr>\n",
       "    <tr>\n",
       "      <th>1</th>\n",
       "      <td>RT @JordanUhl: I'm in. Don't forget @rickyftw ...</td>\n",
       "    </tr>\n",
       "    <tr>\n",
       "      <th>2</th>\n",
       "      <td>The QAA boys prepare to go toe-to-toe with the...</td>\n",
       "    </tr>\n",
       "    <tr>\n",
       "      <th>3</th>\n",
       "      <td>RT @travis_view: Broke: Biden was wearing a de...</td>\n",
       "    </tr>\n",
       "    <tr>\n",
       "      <th>4</th>\n",
       "      <td>RT @julianfeeld: QAnon dating profiles in a de...</td>\n",
       "    </tr>\n",
       "    <tr>\n",
       "      <th>...</th>\n",
       "      <td>...</td>\n",
       "    </tr>\n",
       "    <tr>\n",
       "      <th>495</th>\n",
       "      <td>RT @julianfeeld: This self-described shaman is...</td>\n",
       "    </tr>\n",
       "    <tr>\n",
       "      <th>496</th>\n",
       "      <td>Here the crowd breaks into “where we go one we...</td>\n",
       "    </tr>\n",
       "    <tr>\n",
       "      <th>497</th>\n",
       "      <td>Today a group of pizzagate and QAnon believers...</td>\n",
       "    </tr>\n",
       "    <tr>\n",
       "      <th>498</th>\n",
       "      <td>@julianfeeld Here with @travis_view and anothe...</td>\n",
       "    </tr>\n",
       "    <tr>\n",
       "      <th>499</th>\n",
       "      <td>RT @julianfeeld: Reporting from Hollywood boul...</td>\n",
       "    </tr>\n",
       "  </tbody>\n",
       "</table>\n",
       "<p>500 rows × 1 columns</p>\n",
       "</div>"
      ],
      "text/plain": [
       "                                                     0\n",
       "0    @JordanUhl @rickyftw @mattg00d @tomfromstray @...\n",
       "1    RT @JordanUhl: I'm in. Don't forget @rickyftw ...\n",
       "2    The QAA boys prepare to go toe-to-toe with the...\n",
       "3    RT @travis_view: Broke: Biden was wearing a de...\n",
       "4    RT @julianfeeld: QAnon dating profiles in a de...\n",
       "..                                                 ...\n",
       "495  RT @julianfeeld: This self-described shaman is...\n",
       "496  Here the crowd breaks into “where we go one we...\n",
       "497  Today a group of pizzagate and QAnon believers...\n",
       "498  @julianfeeld Here with @travis_view and anothe...\n",
       "499  RT @julianfeeld: Reporting from Hollywood boul...\n",
       "\n",
       "[500 rows x 1 columns]"
      ]
     },
     "execution_count": 29,
     "metadata": {},
     "output_type": "execute_result"
    }
   ],
   "source": [
    "qatweets"
   ]
  },
  {
   "cell_type": "code",
   "execution_count": 30,
   "metadata": {},
   "outputs": [],
   "source": [
    "qalist1 = []\n",
    "for text in qatweets[0]:\n",
    "    souper2 = BeautifulSoup(text, \"lxml\")\n",
    "    qalist1.append(souper2.get_text())"
   ]
  },
  {
   "cell_type": "code",
   "execution_count": 31,
   "metadata": {},
   "outputs": [],
   "source": [
    "qalist2 =[]\n",
    "for text in qalist1:\n",
    "    qalist2.append(p.clean(text))"
   ]
  },
  {
   "cell_type": "code",
   "execution_count": 32,
   "metadata": {},
   "outputs": [],
   "source": [
    "qalist3 =[]\n",
    "for text in qalist2:\n",
    "    qalist3.append(re.sub(r\"^RT.*:\",\"\",text))"
   ]
  },
  {
   "cell_type": "code",
   "execution_count": 38,
   "metadata": {},
   "outputs": [],
   "source": [
    "qa_test_tfidf = tfidf.transform(qalist3)"
   ]
  },
  {
   "cell_type": "code",
   "execution_count": 39,
   "metadata": {},
   "outputs": [],
   "source": [
    "qa = my_best_model.predict_proba(qa_test_tfidf)"
   ]
  },
  {
   "cell_type": "code",
   "execution_count": 40,
   "metadata": {},
   "outputs": [],
   "source": [
    "qadf = pd.DataFrame(qa)"
   ]
  },
  {
   "cell_type": "code",
   "execution_count": 41,
   "metadata": {},
   "outputs": [
    {
     "data": {
      "text/html": [
       "<div>\n",
       "<style scoped>\n",
       "    .dataframe tbody tr th:only-of-type {\n",
       "        vertical-align: middle;\n",
       "    }\n",
       "\n",
       "    .dataframe tbody tr th {\n",
       "        vertical-align: top;\n",
       "    }\n",
       "\n",
       "    .dataframe thead th {\n",
       "        text-align: right;\n",
       "    }\n",
       "</style>\n",
       "<table border=\"1\" class=\"dataframe\">\n",
       "  <thead>\n",
       "    <tr style=\"text-align: right;\">\n",
       "      <th></th>\n",
       "      <th>0</th>\n",
       "      <th>1</th>\n",
       "    </tr>\n",
       "  </thead>\n",
       "  <tbody>\n",
       "    <tr>\n",
       "      <th>0</th>\n",
       "      <td>0.227280</td>\n",
       "      <td>0.772720</td>\n",
       "    </tr>\n",
       "    <tr>\n",
       "      <th>1</th>\n",
       "      <td>0.209569</td>\n",
       "      <td>0.790431</td>\n",
       "    </tr>\n",
       "    <tr>\n",
       "      <th>2</th>\n",
       "      <td>0.245298</td>\n",
       "      <td>0.754702</td>\n",
       "    </tr>\n",
       "    <tr>\n",
       "      <th>3</th>\n",
       "      <td>0.188042</td>\n",
       "      <td>0.811958</td>\n",
       "    </tr>\n",
       "    <tr>\n",
       "      <th>4</th>\n",
       "      <td>0.325461</td>\n",
       "      <td>0.674539</td>\n",
       "    </tr>\n",
       "    <tr>\n",
       "      <th>...</th>\n",
       "      <td>...</td>\n",
       "      <td>...</td>\n",
       "    </tr>\n",
       "    <tr>\n",
       "      <th>495</th>\n",
       "      <td>0.580965</td>\n",
       "      <td>0.419035</td>\n",
       "    </tr>\n",
       "    <tr>\n",
       "      <th>496</th>\n",
       "      <td>0.560535</td>\n",
       "      <td>0.439465</td>\n",
       "    </tr>\n",
       "    <tr>\n",
       "      <th>497</th>\n",
       "      <td>0.281256</td>\n",
       "      <td>0.718744</td>\n",
       "    </tr>\n",
       "    <tr>\n",
       "      <th>498</th>\n",
       "      <td>0.414493</td>\n",
       "      <td>0.585507</td>\n",
       "    </tr>\n",
       "    <tr>\n",
       "      <th>499</th>\n",
       "      <td>0.315612</td>\n",
       "      <td>0.684388</td>\n",
       "    </tr>\n",
       "  </tbody>\n",
       "</table>\n",
       "<p>500 rows × 2 columns</p>\n",
       "</div>"
      ],
      "text/plain": [
       "            0         1\n",
       "0    0.227280  0.772720\n",
       "1    0.209569  0.790431\n",
       "2    0.245298  0.754702\n",
       "3    0.188042  0.811958\n",
       "4    0.325461  0.674539\n",
       "..        ...       ...\n",
       "495  0.580965  0.419035\n",
       "496  0.560535  0.439465\n",
       "497  0.281256  0.718744\n",
       "498  0.414493  0.585507\n",
       "499  0.315612  0.684388\n",
       "\n",
       "[500 rows x 2 columns]"
      ]
     },
     "execution_count": 41,
     "metadata": {},
     "output_type": "execute_result"
    }
   ],
   "source": [
    "qadf"
   ]
  },
  {
   "cell_type": "code",
   "execution_count": 43,
   "metadata": {},
   "outputs": [],
   "source": [
    "testpredict4 = []\n",
    "for x in range(len(qadf[0])):\n",
    "    testpredict4.append(qadf.iloc[x,:].idxmax(axis=1))\n",
    "    "
   ]
  },
  {
   "cell_type": "code",
   "execution_count": 44,
   "metadata": {},
   "outputs": [],
   "source": [
    "qapredic = pd.DataFrame(testpredict4)"
   ]
  },
  {
   "cell_type": "code",
   "execution_count": 45,
   "metadata": {},
   "outputs": [
    {
     "data": {
      "text/plain": [
       "1    352\n",
       "0    148\n",
       "Name: 0, dtype: int64"
      ]
     },
     "execution_count": 45,
     "metadata": {},
     "output_type": "execute_result"
    }
   ],
   "source": [
    "qapredic[0].value_counts()"
   ]
  },
  {
   "cell_type": "code",
   "execution_count": 46,
   "metadata": {
    "scrolled": false
   },
   "outputs": [
    {
     "data": {
      "text/plain": [
       "0.704"
      ]
     },
     "execution_count": 46,
     "metadata": {},
     "output_type": "execute_result"
    }
   ],
   "source": [
    "352/500"
   ]
  },
  {
   "cell_type": "code",
   "execution_count": 47,
   "metadata": {},
   "outputs": [],
   "source": [
    "count = 500\n",
    "aftweets = []\n",
    "\n",
    "tweets = tweepy.Cursor(api.user_timeline,id='antifaintl', include_rts = True, tweet_mode = 'extended').items(count)\n",
    "tweets_list2 = [[tweet.full_text] for tweet in tweets]\n",
    "aftweets.extend(tweets_list2)"
   ]
  },
  {
   "cell_type": "code",
   "execution_count": 48,
   "metadata": {},
   "outputs": [],
   "source": [
    "aftweets = pd.DataFrame(aftweets, dtype='string')"
   ]
  },
  {
   "cell_type": "code",
   "execution_count": 49,
   "metadata": {},
   "outputs": [
    {
     "data": {
      "text/html": [
       "<div>\n",
       "<style scoped>\n",
       "    .dataframe tbody tr th:only-of-type {\n",
       "        vertical-align: middle;\n",
       "    }\n",
       "\n",
       "    .dataframe tbody tr th {\n",
       "        vertical-align: top;\n",
       "    }\n",
       "\n",
       "    .dataframe thead th {\n",
       "        text-align: right;\n",
       "    }\n",
       "</style>\n",
       "<table border=\"1\" class=\"dataframe\">\n",
       "  <thead>\n",
       "    <tr style=\"text-align: right;\">\n",
       "      <th></th>\n",
       "      <th>0</th>\n",
       "    </tr>\n",
       "  </thead>\n",
       "  <tbody>\n",
       "    <tr>\n",
       "      <th>0</th>\n",
       "      <td>@Florida_Thinker https://t.co/rde3E5fgKA</td>\n",
       "    </tr>\n",
       "    <tr>\n",
       "      <th>1</th>\n",
       "      <td>RT @ThoughtSlime: Boy, can I pick a timely sub...</td>\n",
       "    </tr>\n",
       "    <tr>\n",
       "      <th>2</th>\n",
       "      <td>@moranmatthewp NOPE, 'TWAS A GLITCH!  THEY'RE ...</td>\n",
       "    </tr>\n",
       "    <tr>\n",
       "      <th>3</th>\n",
       "      <td>@artipatel Does Canada have Outward Bound?</td>\n",
       "    </tr>\n",
       "    <tr>\n",
       "      <th>4</th>\n",
       "      <td>Reminder: https://t.co/lrtrRlocF5</td>\n",
       "    </tr>\n",
       "    <tr>\n",
       "      <th>...</th>\n",
       "      <td>...</td>\n",
       "    </tr>\n",
       "    <tr>\n",
       "      <th>495</th>\n",
       "      <td>RT @MetroATLDSA: .@flowerunited won and declar...</td>\n",
       "    </tr>\n",
       "    <tr>\n",
       "      <th>496</th>\n",
       "      <td>@HarmReduxDoc That's how you know he's Threepe...</td>\n",
       "    </tr>\n",
       "    <tr>\n",
       "      <th>497</th>\n",
       "      <td>#ThreeperTriggerDiscipline - who wants to give...</td>\n",
       "    </tr>\n",
       "    <tr>\n",
       "      <th>498</th>\n",
       "      <td>Even in our wildest imaginations, we could not...</td>\n",
       "    </tr>\n",
       "    <tr>\n",
       "      <th>499</th>\n",
       "      <td>RT @MariahforAthens: 😎 https://t.co/edO5fUHq5C</td>\n",
       "    </tr>\n",
       "  </tbody>\n",
       "</table>\n",
       "<p>500 rows × 1 columns</p>\n",
       "</div>"
      ],
      "text/plain": [
       "                                                     0\n",
       "0             @Florida_Thinker https://t.co/rde3E5fgKA\n",
       "1    RT @ThoughtSlime: Boy, can I pick a timely sub...\n",
       "2    @moranmatthewp NOPE, 'TWAS A GLITCH!  THEY'RE ...\n",
       "3           @artipatel Does Canada have Outward Bound?\n",
       "4                    Reminder: https://t.co/lrtrRlocF5\n",
       "..                                                 ...\n",
       "495  RT @MetroATLDSA: .@flowerunited won and declar...\n",
       "496  @HarmReduxDoc That's how you know he's Threepe...\n",
       "497  #ThreeperTriggerDiscipline - who wants to give...\n",
       "498  Even in our wildest imaginations, we could not...\n",
       "499     RT @MariahforAthens: 😎 https://t.co/edO5fUHq5C\n",
       "\n",
       "[500 rows x 1 columns]"
      ]
     },
     "execution_count": 49,
     "metadata": {},
     "output_type": "execute_result"
    }
   ],
   "source": [
    "aftweets"
   ]
  },
  {
   "cell_type": "code",
   "execution_count": 50,
   "metadata": {},
   "outputs": [],
   "source": [
    "aflist1 = []\n",
    "for text in aftweets[0]:\n",
    "    souper2 = BeautifulSoup(text, \"lxml\")\n",
    "    aflist1.append(souper2.get_text())"
   ]
  },
  {
   "cell_type": "code",
   "execution_count": 51,
   "metadata": {},
   "outputs": [],
   "source": [
    "aflist2 =[]\n",
    "for text in aflist1:\n",
    "    aflist2.append(p.clean(text))"
   ]
  },
  {
   "cell_type": "code",
   "execution_count": 52,
   "metadata": {},
   "outputs": [],
   "source": [
    "aflist3 =[]\n",
    "for text in aflist2:\n",
    "    aflist3.append(re.sub(r\"^RT.*:\",\"\",text))"
   ]
  },
  {
   "cell_type": "code",
   "execution_count": 53,
   "metadata": {},
   "outputs": [],
   "source": [
    "af_test_tfidf = tfidf.transform(aflist3)"
   ]
  },
  {
   "cell_type": "code",
   "execution_count": 54,
   "metadata": {},
   "outputs": [],
   "source": [
    "af = my_best_model.predict_proba(af_test_tfidf)"
   ]
  },
  {
   "cell_type": "code",
   "execution_count": 55,
   "metadata": {},
   "outputs": [],
   "source": [
    "afdf = pd.DataFrame(af)"
   ]
  },
  {
   "cell_type": "code",
   "execution_count": 56,
   "metadata": {},
   "outputs": [
    {
     "data": {
      "text/html": [
       "<div>\n",
       "<style scoped>\n",
       "    .dataframe tbody tr th:only-of-type {\n",
       "        vertical-align: middle;\n",
       "    }\n",
       "\n",
       "    .dataframe tbody tr th {\n",
       "        vertical-align: top;\n",
       "    }\n",
       "\n",
       "    .dataframe thead th {\n",
       "        text-align: right;\n",
       "    }\n",
       "</style>\n",
       "<table border=\"1\" class=\"dataframe\">\n",
       "  <thead>\n",
       "    <tr style=\"text-align: right;\">\n",
       "      <th></th>\n",
       "      <th>0</th>\n",
       "      <th>1</th>\n",
       "    </tr>\n",
       "  </thead>\n",
       "  <tbody>\n",
       "    <tr>\n",
       "      <th>0</th>\n",
       "      <td>0.325225</td>\n",
       "      <td>0.674775</td>\n",
       "    </tr>\n",
       "    <tr>\n",
       "      <th>1</th>\n",
       "      <td>0.388003</td>\n",
       "      <td>0.611997</td>\n",
       "    </tr>\n",
       "    <tr>\n",
       "      <th>2</th>\n",
       "      <td>0.221795</td>\n",
       "      <td>0.778205</td>\n",
       "    </tr>\n",
       "    <tr>\n",
       "      <th>3</th>\n",
       "      <td>0.325225</td>\n",
       "      <td>0.674775</td>\n",
       "    </tr>\n",
       "    <tr>\n",
       "      <th>4</th>\n",
       "      <td>0.464733</td>\n",
       "      <td>0.535267</td>\n",
       "    </tr>\n",
       "    <tr>\n",
       "      <th>...</th>\n",
       "      <td>...</td>\n",
       "      <td>...</td>\n",
       "    </tr>\n",
       "    <tr>\n",
       "      <th>495</th>\n",
       "      <td>0.434815</td>\n",
       "      <td>0.565185</td>\n",
       "    </tr>\n",
       "    <tr>\n",
       "      <th>496</th>\n",
       "      <td>0.803573</td>\n",
       "      <td>0.196427</td>\n",
       "    </tr>\n",
       "    <tr>\n",
       "      <th>497</th>\n",
       "      <td>0.697385</td>\n",
       "      <td>0.302615</td>\n",
       "    </tr>\n",
       "    <tr>\n",
       "      <th>498</th>\n",
       "      <td>0.792981</td>\n",
       "      <td>0.207019</td>\n",
       "    </tr>\n",
       "    <tr>\n",
       "      <th>499</th>\n",
       "      <td>0.325225</td>\n",
       "      <td>0.674775</td>\n",
       "    </tr>\n",
       "  </tbody>\n",
       "</table>\n",
       "<p>500 rows × 2 columns</p>\n",
       "</div>"
      ],
      "text/plain": [
       "            0         1\n",
       "0    0.325225  0.674775\n",
       "1    0.388003  0.611997\n",
       "2    0.221795  0.778205\n",
       "3    0.325225  0.674775\n",
       "4    0.464733  0.535267\n",
       "..        ...       ...\n",
       "495  0.434815  0.565185\n",
       "496  0.803573  0.196427\n",
       "497  0.697385  0.302615\n",
       "498  0.792981  0.207019\n",
       "499  0.325225  0.674775\n",
       "\n",
       "[500 rows x 2 columns]"
      ]
     },
     "execution_count": 56,
     "metadata": {},
     "output_type": "execute_result"
    }
   ],
   "source": [
    "afdf"
   ]
  },
  {
   "cell_type": "code",
   "execution_count": 57,
   "metadata": {},
   "outputs": [],
   "source": [
    "testpredict5 = []\n",
    "for x in range(len(afdf[0])):\n",
    "    testpredict5.append(afdf.iloc[x,:].idxmax(axis=1))\n",
    "    "
   ]
  },
  {
   "cell_type": "code",
   "execution_count": 58,
   "metadata": {},
   "outputs": [],
   "source": [
    "afpredic = pd.DataFrame(testpredict5)"
   ]
  },
  {
   "cell_type": "code",
   "execution_count": 59,
   "metadata": {},
   "outputs": [
    {
     "data": {
      "text/plain": [
       "1    409\n",
       "0     91\n",
       "Name: 0, dtype: int64"
      ]
     },
     "execution_count": 59,
     "metadata": {},
     "output_type": "execute_result"
    }
   ],
   "source": [
    "afpredic[0].value_counts()"
   ]
  },
  {
   "cell_type": "code",
   "execution_count": 60,
   "metadata": {
    "scrolled": false
   },
   "outputs": [
    {
     "data": {
      "text/plain": [
       "0.818"
      ]
     },
     "execution_count": 60,
     "metadata": {},
     "output_type": "execute_result"
    }
   ],
   "source": [
    "409/500"
   ]
  },
  {
   "cell_type": "code",
   "execution_count": null,
   "metadata": {},
   "outputs": [],
   "source": []
  },
  {
   "cell_type": "code",
   "execution_count": null,
   "metadata": {},
   "outputs": [],
   "source": []
  },
  {
   "cell_type": "code",
   "execution_count": null,
   "metadata": {},
   "outputs": [],
   "source": []
  },
  {
   "cell_type": "code",
   "execution_count": null,
   "metadata": {},
   "outputs": [],
   "source": []
  },
  {
   "cell_type": "code",
   "execution_count": null,
   "metadata": {},
   "outputs": [],
   "source": []
  },
  {
   "cell_type": "code",
   "execution_count": null,
   "metadata": {},
   "outputs": [],
   "source": []
  }
 ],
 "metadata": {
  "kernelspec": {
   "display_name": "Python 3",
   "language": "python",
   "name": "python3"
  },
  "language_info": {
   "codemirror_mode": {
    "name": "ipython",
    "version": 3
   },
   "file_extension": ".py",
   "mimetype": "text/x-python",
   "name": "python",
   "nbconvert_exporter": "python",
   "pygments_lexer": "ipython3",
   "version": "3.8.3"
  }
 },
 "nbformat": 4,
 "nbformat_minor": 4
}
